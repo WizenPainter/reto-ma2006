{
 "cells": [
  {
   "cell_type": "markdown",
   "metadata": {},
   "source": [
    "# Schnorr digital signatures and verification\n",
    "## Key pair generation"
   ]
  },
  {
   "cell_type": "markdown",
   "metadata": {
    "pycharm": {
     "name": "#%% md\n"
    }
   },
   "source": [
    "- $E$ is an elliptic curve, $N$ is the order of the curve\n",
    "- $G$ is a generator and $h$ is an hash function\n",
    "- The user chooses his secret key $d$, $0 < d < N$\n",
    "- The user computes the point $P = dG = (P_x, P_y)$: his public key is the $x$-coordinate, $P_x$"
   ]
  },
  {
   "cell_type": "code",
   "execution_count": 1,
   "metadata": {},
   "outputs": [],
   "source": [
    "def hashPDF(file, BLOCK_SIZE):\n",
    "    # hash=sha256()\n",
    "    with open(file, 'rb') as f: # Open the file to read it's bytes\n",
    "        fb = f.read(BLOCK_SIZE) # Read from the file. Take in the amount declared above\n",
    "        M = sl.sha256(fb)\n",
    "    return M\n",
    "file = \"D:/Documentos/pdf-test.pdf\"\n",
    "size = os.path.getsize(file) "
   ]
  },
  {
   "cell_type": "code",
   "execution_count": 28,
   "metadata": {
    "pycharm": {
     "name": "#%%\n"
    }
   },
   "outputs": [
    {
     "data": {
      "text/plain": [
       "[{'nameUser': '0',\n",
       "  'privateKey': '492d111b2984a7f6573f52d143feb86738f778dfdd9fa3da6875a033fe20d30d',\n",
       "  'publicKey': 'e1c4ca7556451f55a801e896aec3228274427bceef744b4a437e3e67b8273a09'}]"
      ]
     },
     "execution_count": 28,
     "metadata": {},
     "output_type": "execute_result"
    }
   ],
   "source": [
    "import create_keypair as ckp\n",
    "import schnorr_lib as sl\n",
    "\n",
    "n_keys = int(input(\"Insert the number of keys to be generated:\"))\n",
    "\n",
    "ckp.create_keypair(n_keys)[\"users\"]"
   ]
  },
  {
   "cell_type": "markdown",
   "metadata": {},
   "source": [
    "## Schnorr Sign\n",
    "\n",
    "- $M$ message, $d$ is the private key, the $x$-coordinate of $P = dG$ is the public key\n",
    "- $A$, the signer, picks a random $k$, $1 < k < n$ and calculates $R = kG$\n",
    "- A computes $e = h(R || P || M)$\n",
    "- A computes $s = (k + ed) \\mod n$\n",
    "- The signature is the pair $(R_x, s)$ "
   ]
  },
  {
   "cell_type": "code",
   "execution_count": 4,
   "metadata": {},
   "outputs": [
    {
     "name": "stdout",
     "output_type": "stream",
     "text": [
      "PublicKey = 85b8f9f70afaedf6e102295e88b4295bad954e7f7e9d774a8a8e050570b22bb2\n",
      "Signature = 691c21c137f7dc77f837c84725edf3a5982a21d6f2b832aa12caac5485e526d0e1df0b501dec73e212645f2e65b3d1bdacec83f8d08016b3ddf34daf71f8021f\n"
     ]
    }
   ],
   "source": [
    "import create_keypair as ckp\n",
    "import schnorr_lib as sl\n",
    "\n",
    "user = ckp.create_keypair(1)[\"users\"]\n",
    "\n",
    "# M = input(\"Insert the message to sign:\")\n",
    "# M = sl.sha256(M.encode())\n",
    "M = hashPDF(file, size)\n",
    "\n",
    "sig = sl.schnorr_sign(M, user[0][\"privateKey\"])\n",
    "\n",
    "print(\"PublicKey =\", user[0][\"publicKey\"])\n",
    "print(\"Signature =\",sig.hex())"
   ]
  },
  {
   "cell_type": "markdown",
   "metadata": {},
   "source": [
    "## Schnorr MuSig-1\n",
    "\n",
    "- $L = h(P_1 || ... ||P_n)$, where n is the number of users and $P_i$ is the public key of the $i^{th}$ user\n",
    "- Every user $i$ computes the quantity $a_i = h(L||P_i)$\n",
    "- The aggregate $\\tilde{X} = \\sum\\limits_{i=1}^{n} a_i P_i$ is a public parameter\n",
    "- Every user chooses $r_i$ and computes $R_i = r_i G$\n",
    "- Every user computes the point $R = R_1+...+R_n =(R_x,R_y)$\n",
    "- Every user computes $c = h(R || \\tilde{X}|| M)$\n",
    "- Every user computes $s_i = r_i + cd_i a_i \\mod N$, then the aggregate is $s=s_1+...+s_n \\mod N$\n",
    "- The signature is the couple $(R_x,s)$"
   ]
  },
  {
   "cell_type": "code",
   "execution_count": 3,
   "metadata": {
    "scrolled": true
   },
   "outputs": [
    {
     "name": "stdout",
     "output_type": "stream",
     "text": [
      "c 87466471819044610412310485724871971209301682117051771801384901549329348931851\n",
      "ki 85739377958203278443205717736587277550532327825568154362338936696224811329705\n",
      "ki 73520801332297077507381683831385379556539305269055373205715619645751287071659\n",
      "ki 19292908017424699450613258118231952273741240934008904546857962223447842447481\n",
      "Suma 110758112968701878639947763462830229395839766979738652564084431787877783796057\n",
      "sig b\"\\xb6\\x12z\\x12*J\\xb0\\x13\\x85\\xa7\\xbb\\x8b1I]O\\x99\\xdcv' \\x85'\\xf2e\\x17\\x05\\xca\\x11\\xd7\\x0cr\\xf4\\xde\\xde\\xd2\\x9e\\xd3\\\\id\\xa2+\\xd0\\x82e\\xcb0{M\\xf7\\x85\\x7f]\\x8a?fm$$\\x82\\xefyY\"\n",
      "Aggregated key = 6f206c6fbca22baddb2bf13d5b8d32e704683a8e7fb76d8efaa5eeb9d92f67d0\n",
      "Signature = b\"\\xb6\\x12z\\x12*J\\xb0\\x13\\x85\\xa7\\xbb\\x8b1I]O\\x99\\xdcv' \\x85'\\xf2e\\x17\\x05\\xca\\x11\\xd7\\x0cr\\xf4\\xde\\xde\\xd2\\x9e\\xd3\\\\id\\xa2+\\xd0\\x82e\\xcb0{M\\xf7\\x85\\x7f]\\x8a?fm$$\\x82\\xefyY\"\n"
     ]
    }
   ],
   "source": [
    "import create_keypair as ckp\n",
    "import schnorr_lib as sl\n",
    "\n",
    "users = [{'nameUser': '0', 'privateKey': '2fa3126813a243984d29bfd7c76d46a1fa7747219b993b940d26095b42699f49','publicKey': '4390c599fb59aac410a218e5bde50a1edbffba61cfe0b3ca8dd7b7f047b7f8db'},\n",
    " {'nameUser': '1',\n",
    "            'privateKey': '428edc2fb282ead8a19107a8f3f3df1a72cae3842f9fea8cd8ec053d8b4704b3',\n",
    "            'publicKey': '9b03a64a6065cca09e3babe573db1108439ef49d6a64d346cc619cb9abf4a642'},\n",
    " {'nameUser': '2',\n",
    "            'privateKey': 'f7f9406a6c092ae4f566874256e07a80841e66304c0318cebd555b3260f8ff1a',\n",
    "            'publicKey': 'ab30f2e76ebf786eb44b0cfed63756a2ea116c96f355409e2974afd1305085dc'}]\n",
    "\n",
    "#n_keys = int(input(\"Insert the number of keys to be generated:\"))\n",
    "#users = ckp.create_keypair(n_keys)[\"users\"]\n",
    "\n",
    "# M = input(\"Insert the message to sign:\")\n",
    "# M = sl.sha256(M.encode())\n",
    "M = hashPDF(file, size)\n",
    "\n",
    "sig, X,l = sl.schnorr_musig_sign(M, users)\n",
    "\n",
    "print(\"Aggregated key =\",X.hex())\n",
    "print(\"Signature =\",sig)\n",
    "\n",
    "\n",
    "\n",
    "#print('The private keys are: ')\n",
    "#print('--------------------------')\n",
    "#for u in users:\n",
    "#    pk = u['privateKey']\n",
    "#    print('Usuario ' + u['nameUser'] + ':', pk)"
   ]
  },
  {
   "cell_type": "markdown",
   "metadata": {},
   "source": [
    "## Schnorr MuSig-2\n",
    "\n",
    "- Compute $L$, $a_i = h(L||P_i )$ and $\\tilde{X}$ as before\n",
    "- Each user $i$ chooses $\\nu$ different nonces $r_{i,1}, . . . , r_{i,ν}$ and computes the points\n",
    "$R_{i,j} = r_{i,j}G$, $\\forall j \\in \\{1,...,\\nu\\}$\n",
    "- Compute $R_j = \\sum\\limits_{i=1}^{n} R_{i,j}, \\; \\forall j \\in \\{1,...,\\nu\\}$\n",
    "- Compute the hash $b = h(R_1||...||R_{\\nu}|| \\tilde{X} || M)$, then compute $R = \\sum\\limits_{j=1}^{\\nu} b^{j-1} R_{j}$\n",
    "- Compute the hash $c = h(R || \\tilde{X}||M)$, then every user $i$ computes\n",
    "$s_i=c a_id_i+\\sum\\limits_{j=1}^{\\nu} r_{i,j}\\; b^{j−1} \\mod N$\n",
    "- Compute $s=s_1+...+s_n \\mod N$\n",
    "- The signature is the couple $(R_x,s)$."
   ]
  },
  {
   "cell_type": "code",
   "execution_count": 31,
   "metadata": {},
   "outputs": [
    {
     "name": "stdout",
     "output_type": "stream",
     "text": [
      "Aggregated key = 3dd9f89da17633fa5be72986a605afdc3477a2663bd0661198d59a93d0fb3f62\n",
      "Signature = ca50387b9e098aac7f7396551091f834c0a0c760e40b5fcedb598a3de2fc4136e871d779bfc01300e8806f26779628070fccf65b23fd58595f7deb11f89d6d00\n"
     ]
    }
   ],
   "source": [
    "import create_keypair as ckp\n",
    "import schnorr_lib as sl\n",
    "import os\n",
    "# from hashlib import sha256\n",
    "\n",
    "n_keys = int(input(\"Insert the number of keys to be generated:\"))\n",
    "# n_keys = 2\n",
    "users = ckp.create_keypair(n_keys)[\"users\"]\n",
    "\n",
    "# M = input(\"Insert the message to sign:\")\n",
    "# M = sl.sha256(M.encode())\n",
    "M = hashPDF(file, size)\n",
    "\n",
    "sig, X = sl.schnorr_musig2_sign(M, users)\n",
    "\n",
    "print(\"Aggregated key =\",X.hex())\n",
    "print(\"Signature =\",sig.hex())"
   ]
  },
  {
   "cell_type": "markdown",
   "metadata": {},
   "source": [
    "## Verify Schnorr\n",
    "\n",
    "- $B$, the receiver, computes the point $sG$\n",
    "- $B$ computes $e = h(R || P || M)$ $(P$ is equal to $\\tilde{X}$ in the MuSig cases$)$\n",
    "- if $sG = R + eP$, the signature is valid  $(P$ is equal to $\\tilde{X}$ in the MuSig cases$)$"
   ]
  },
  {
   "cell_type": "code",
   "execution_count": 3,
   "metadata": {},
   "outputs": [
    {
     "name": "stdout",
     "output_type": "stream",
     "text": [
      "The signature is VALID for this message and this public key\n"
     ]
    }
   ],
   "source": [
    "import schnorr_lib as sl\n",
    "\n",
    "# M = input(\"Insert the message to verify:\")\n",
    "# M = sl.sha256(M.encode())\n",
    "M = hashPDF(file, size)\n",
    "\n",
    "pubkey = input(\"Insert the public key (or the aggregated key if MuSig was used):\")\n",
    "pubkey_bytes = bytes.fromhex(pubkey)\n",
    "\n",
    "sig = input(\"Insert the generated sign:\")\n",
    "sig_bytes = bytes.fromhex(sig)\n",
    "\n",
    "result = sl.schnorr_verify(M, pubkey_bytes, sig_bytes)\n",
    "\n",
    "if result:\n",
    "    print(\"The signature is VALID for this message and this public key\")\n",
    "else:\n",
    "    print(\"The signature is NOT VALID for this message and this public key\")"
   ]
  },
  {
   "cell_type": "code",
   "execution_count": 19,
   "metadata": {},
   "outputs": [
    {
     "data": {
      "text/plain": [
       "'071c32515fb38fec60e31b2c9213c41a6418528553c47790e1ee0d763d0cf0b1'"
      ]
     },
     "execution_count": 19,
     "metadata": {},
     "output_type": "execute_result"
    }
   ],
   "source": [
    "e = 3216008939048214360597857449023540673426933993762071189199738912853539483825\n",
    "e = sl.bytes_from_int(e)\n",
    "e.hex()"
   ]
  },
  {
   "cell_type": "code",
   "execution_count": 24,
   "metadata": {},
   "outputs": [
    {
     "data": {
      "text/plain": [
       "(30560750627779365274982286354606316786288232992182288084301975318891836471515,\n",
       " 34909107037968473317583628963619474172938085703994472818439190251176098246240)"
      ]
     },
     "execution_count": 24,
     "metadata": {},
     "output_type": "execute_result"
    }
   ],
   "source": [
    "priv = '2fa3126813a243984d29bfd7c76d46a1fa7747219b993b940d26095b42699f49'\n",
    "di = sl.int_from_hex(priv)\n",
    "Pi = sl.pubkey_point_gen_from_int(di)\n",
    "Pi"
   ]
  },
  {
   "cell_type": "code",
   "execution_count": 22,
   "metadata": {},
   "outputs": [
    {
     "name": "stdout",
     "output_type": "stream",
     "text": [
      "X 6f206c6fbca22baddb2bf13d5b8d32e704683a8e7fb76d8efaa5eeb9d92f67d0\n",
      "c 45050382748405608257714015408862828451509166462202937335678800998190154071639\n",
      "s 102309678818734876725165232509441581969069320118945076837614101687563476087585\n"
     ]
    }
   ],
   "source": [
    "import json\n",
    "import ast\n",
    "import schnorr_lib as sl\n",
    "\n",
    "# Parámetros de las Curvas Elípticas\n",
    "p = 0xFFFFFFFFFFFFFFFFFFFFFFFFFFFFFFFFFFFFFFFFFFFFFFFFFFFFFFFEFFFFFC2F\n",
    "n = 0xFFFFFFFFFFFFFFFFFFFFFFFFFFFFFFFEBAAEDCE6AF48A03BBFD25E8CD0364141\n",
    "G = (0x79BE667EF9DCBBAC55A06295CE870B07029BFCDB2DCE28D959F2815B16F81798,\n",
    "     0x483ADA7726A3C4655DA4FBFC0E1108A8FD17B448A68554199C47D08FFB10D4B8)\n",
    "\n",
    "with open('claves.json') as json_file:\n",
    "        data = json.load(json_file)\n",
    "\n",
    "L = b''\n",
    "for i in data: \n",
    "    Pi = ast.literal_eval(i['Clave Publica'])\n",
    "    byte_clave = sl.bytes_from_point(Pi)\n",
    "    L += byte_clave\n",
    "\n",
    "L = sl.sha256(L)\n",
    "\n",
    "Rsum = None\n",
    "X = None\n",
    "\n",
    "lista_ai = []\n",
    "lista_ki = []\n",
    "for u in data:\n",
    "    Pi = ast.literal_eval(u['Clave Publica'])\n",
    "    #    byte_clave = bytes_from_int(int_clave)\n",
    "    int_ri = ast.literal_eval(u['Ri'])\n",
    "    ki = u['Ki']\n",
    "\n",
    "    ai = sl.int_from_bytes(sl.sha256(L + sl.bytes_from_point(Pi)))\n",
    "    lista_ai.append(ai)\n",
    "\n",
    "    X = sl.point_add(X, sl.point_mul(Pi, ai))\n",
    "\n",
    "    Rsum = sl.point_add(Rsum, int_ri)   \n",
    "    lista_ki.append(ki)\n",
    "\n",
    "X = sl.bytes_from_point(X)\n",
    "\n",
    "if not sl.has_even_y(X):\n",
    "    cont = 0\n",
    "    for i in lista_ai:\n",
    "        lista_ai[cont] = n- i\n",
    "        cont +=1 \n",
    "\n",
    "if not sl.has_even_y(Rsum):\n",
    "    cont = 0\n",
    "    for i in lista_ki:\n",
    "        lista_ki[cont] = n- i\n",
    "        cont +=1 \n",
    "\n",
    "print(\"X\", X.hex())\n",
    "\n",
    "c = sl.int_from_bytes(sl.tagged_hash(\"BIP0340/challenge\", (sl.bytes_from_point(Rsum) + sl.bytes_from_point(X) + M))) % n\n",
    "\n",
    "print(\"c\",c)\n",
    "\n",
    "with open('users.json', 'r') as f:\n",
    "    data_1 = json.load(f)\n",
    "\n",
    "priv_key = data_1['users'][0]['privateKey']\n",
    "priv_key = sl.int_from_hex(priv_key)\n",
    "\n",
    "ki = int(data[0]['Ki'])\n",
    "\n",
    "s = (c * priv_key* lista_ai[0]+ ki) % n\n",
    "\n",
    "print(\"s\",s)\n"
   ]
  },
  {
   "cell_type": "code",
   "execution_count": 20,
   "metadata": {},
   "outputs": [
    {
     "name": "stdout",
     "output_type": "stream",
     "text": [
      "(30560750627779365274982286354606316786288232992182288084301975318891836471515, 34909107037968473317583628963619474172938085703994472818439190251176098246240)\n",
      "13682049056019787302705909686695135530716896051601928761602000182282948405842\n"
     ]
    }
   ],
   "source": [
    "import ast\n",
    "di = sl.int_from_hex(users[0]['privateKey'])\n",
    "Pi = str(sl.pubkey_point_gen_from_int(di))\n",
    "\n",
    "p = ast.literal_eval(Pi)\n",
    "o = lista_ai[0]\n",
    "print(p)\n",
    "print(o)"
   ]
  },
  {
   "cell_type": "code",
   "execution_count": 21,
   "metadata": {},
   "outputs": [
    {
     "data": {
      "text/plain": [
       "(93046424413264835156364268111996672690167960588753920482589198875457756262099,\n",
       " 9431756804066275983505997047088300076029467773329466319897419981858038319810)"
      ]
     },
     "execution_count": 21,
     "metadata": {},
     "output_type": "execute_result"
    }
   ],
   "source": [
    "X = None\n",
    "sl.point_add(X, sl.point_mul(p, o))\n"
   ]
  },
  {
   "cell_type": "code",
   "execution_count": 6,
   "metadata": {},
   "outputs": [
    {
     "ename": "NameError",
     "evalue": "name 'n' is not defined",
     "output_type": "error",
     "traceback": [
      "\u001b[1;31m---------------------------------------------------------------------------\u001b[0m",
      "\u001b[1;31mNameError\u001b[0m                                 Traceback (most recent call last)",
      "\u001b[1;32md:\\Documentos\\Visual Studio\\reto-ma2006\\schnorr-sig\\schnorr.ipynb Cell 18'\u001b[0m in \u001b[0;36m<cell line: 12>\u001b[1;34m()\u001b[0m\n\u001b[0;32m      <a href='vscode-notebook-cell:/d%3A/Documentos/Visual%20Studio/reto-ma2006/schnorr-sig/schnorr.ipynb#ch0000017?line=8'>9</a>\u001b[0m     s_i \u001b[39m=\u001b[39m i[\u001b[39m'\u001b[39m\u001b[39mfirma\u001b[39m\u001b[39m'\u001b[39m]\n\u001b[0;32m     <a href='vscode-notebook-cell:/d%3A/Documentos/Visual%20Studio/reto-ma2006/schnorr-sig/schnorr.ipynb#ch0000017?line=9'>10</a>\u001b[0m     s_suma \u001b[39m+\u001b[39m\u001b[39m=\u001b[39m s_i\n\u001b[1;32m---> <a href='vscode-notebook-cell:/d%3A/Documentos/Visual%20Studio/reto-ma2006/schnorr-sig/schnorr.ipynb#ch0000017?line=11'>12</a>\u001b[0m s_suma \u001b[39m=\u001b[39m s_suma \u001b[39m%\u001b[39m n\n\u001b[0;32m     <a href='vscode-notebook-cell:/d%3A/Documentos/Visual%20Studio/reto-ma2006/schnorr-sig/schnorr.ipynb#ch0000017?line=13'>14</a>\u001b[0m signature_bytes \u001b[39m=\u001b[39m sl\u001b[39m.\u001b[39mbytes_from_point(Rsum) \u001b[39m+\u001b[39m sl\u001b[39m.\u001b[39mbytes_from_int(s_suma)\n\u001b[0;32m     <a href='vscode-notebook-cell:/d%3A/Documentos/Visual%20Studio/reto-ma2006/schnorr-sig/schnorr.ipynb#ch0000017?line=16'>17</a>\u001b[0m X \u001b[39m=\u001b[39m sl\u001b[39m.\u001b[39mbytes_from_point(data[\u001b[39m0\u001b[39m][\u001b[39m'\u001b[39m\u001b[39mfirma agregada\u001b[39m\u001b[39m'\u001b[39m])\n",
      "\u001b[1;31mNameError\u001b[0m: name 'n' is not defined"
     ]
    }
   ],
   "source": [
    "import json\n",
    "with open('firmas_esquema.json', 'r') as f:\n",
    "    data = json.load(f)\n",
    "\n",
    "Rsum = data[0]['Sumatoria R']\n",
    "\n",
    "s_suma = 0\n",
    "for i in data: \n",
    "    s_i = i['firma']\n",
    "    s_suma += s_i\n",
    "\n",
    "s_suma = s_suma % n\n",
    "\n",
    "signature_bytes = sl.bytes_from_point(Rsum) + sl.bytes_from_int(s_suma)\n",
    "\n",
    "\n",
    "X = sl.bytes_from_point(data[0]['firma agregada'])\n",
    "\n",
    "\n",
    "#        signature_bytes = sl.int_from_bytes(signature_bytes)\n",
    "\n",
    "X = sl.int_from_bytes(X)\n",
    "\n",
    "signature_bytes = str(signature_bytes)"
   ]
  },
  {
   "cell_type": "code",
   "execution_count": 21,
   "metadata": {},
   "outputs": [
    {
     "data": {
      "text/plain": [
       "77"
      ]
     },
     "execution_count": 21,
     "metadata": {},
     "output_type": "execute_result"
    }
   ],
   "source": [
    "len(\"56323776146680878002305240761724537382079791310488645351282546751374155493451\")"
   ]
  },
  {
   "cell_type": "code",
   "execution_count": 9,
   "metadata": {},
   "outputs": [
    {
     "name": "stdout",
     "output_type": "stream",
     "text": [
      "True\n"
     ]
    }
   ],
   "source": [
    "\n",
    "if len(M) != 32:\n",
    "    raise ValueError('The message must be a 32-byte array.')\n",
    "\n",
    "with open('firma_digital.json') as json_file:\n",
    "    data = json.load(json_file)\n",
    "\n",
    "clave_p = data['Firma']\n",
    "sig = ast.literal_eval(clave_p)\n",
    "\n",
    "clave_agregada = int(data['Firma Agregada'])\n",
    "\n",
    "pubkey = sl.bytes_from_int(clave_agregada)\n",
    "\n",
    "    \n",
    "if len(pubkey) != 32:\n",
    "    raise ValueError('The public key must be a 32-byte array.')\n",
    "if len(sig) != 64:\n",
    "    raise ValueError('The signature must be a 64-byte array.')\n",
    "P = sl.lift_x_even_y(pubkey)\n",
    "r = sl.get_int_R_from_sig(sig)\n",
    "s = sl.get_int_s_from_sig(sig)\n",
    "\n",
    "if (P is None) or (r >= p) or (s >= n):\n",
    "    print(False)\n",
    "e = sl.int_from_bytes(sl.tagged_hash(\"BIP0340/challenge\", sl.get_bytes_R_from_sig(sig) + pubkey + M)) % n\n",
    "R = sl.point_add(sl.point_mul(G, s), sl.point_mul(P, n - e))\n",
    "#if (R is None) or (not sl.has_even_y(R)):\n",
    "#    print(\"Please, recompute the sign. R is None or has even y\")\n",
    "#    print(False)\n",
    "if sl.x(R) != r:\n",
    "    print(\"There's something wrong\")\n",
    "    print(False)\n",
    "print(True)"
   ]
  },
  {
   "cell_type": "code",
   "execution_count": 19,
   "metadata": {},
   "outputs": [],
   "source": [
    "cont = 0\n",
    "for i in lista_ai:\n",
    "    lista_ai[cont] = n- i\n",
    "    cont +=1 "
   ]
  },
  {
   "cell_type": "code",
   "execution_count": 20,
   "metadata": {},
   "outputs": [
    {
     "data": {
      "text/plain": [
       "[102110040181296408120865075321992772322120668227472975621003162959235213088495,\n",
       " 16749993410327024776330253745095961615675833494624748701588071676182647905199,\n",
       " 40125695165738213180965383003819534378471557564987713598383313323946091125992]"
      ]
     },
     "execution_count": 20,
     "metadata": {},
     "output_type": "execute_result"
    }
   ],
   "source": [
    "lista_ai"
   ]
  },
  {
   "cell_type": "code",
   "execution_count": 17,
   "metadata": {},
   "outputs": [
    {
     "data": {
      "text/plain": [
       "[71383288774214860738898071301071077361478640860560947131238718176753047698122,\n",
       " 80507694412587728907085711536093080521859837694789296503355957287480689915560,\n",
       " 60383146465786567092195608159110189617627632460229778036902891045464467115420]"
      ]
     },
     "execution_count": 17,
     "metadata": {},
     "output_type": "execute_result"
    }
   ],
   "source": [
    "lista_ki"
   ]
  },
  {
   "cell_type": "code",
   "execution_count": 3,
   "metadata": {},
   "outputs": [],
   "source": [
    "files=['json_1.json','json_2.json','json_3.json']"
   ]
  },
  {
   "cell_type": "code",
   "execution_count": 4,
   "metadata": {},
   "outputs": [],
   "source": [
    "import schnorr_lib as sl\n",
    "sl.merge_JsonFiles(files)"
   ]
  },
  {
   "cell_type": "code",
   "execution_count": null,
   "metadata": {},
   "outputs": [],
   "source": []
  }
 ],
 "metadata": {
  "interpreter": {
   "hash": "57358cf5f4913248e7ac461105d7557af272d59485a79d39fdf7eef7a4e1f358"
  },
  "kernelspec": {
   "display_name": "Python 3 (ipykernel)",
   "language": "python",
   "name": "python3"
  },
  "language_info": {
   "codemirror_mode": {
    "name": "ipython",
    "version": 3
   },
   "file_extension": ".py",
   "mimetype": "text/x-python",
   "name": "python",
   "nbconvert_exporter": "python",
   "pygments_lexer": "ipython3",
   "version": "3.9.4"
  }
 },
 "nbformat": 4,
 "nbformat_minor": 2
}
