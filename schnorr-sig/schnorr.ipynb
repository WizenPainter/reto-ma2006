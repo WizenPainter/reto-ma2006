{
 "cells": [
  {
   "cell_type": "markdown",
   "metadata": {},
   "source": [
    "# Schnorr digital signatures and verification\n",
    "## Key pair generation"
   ]
  },
  {
   "cell_type": "markdown",
   "metadata": {
    "pycharm": {
     "name": "#%% md\n"
    }
   },
   "source": [
    "- $E$ is an elliptic curve, $N$ is the order of the curve\n",
    "- $G$ is a generator and $h$ is an hash function\n",
    "- The user chooses his secret key $d$, $0 < d < N$\n",
    "- The user computes the point $P = dG = (P_x, P_y)$: his public key is the $x$-coordinate, $P_x$"
   ]
  },
  {
   "cell_type": "code",
   "execution_count": 1,
   "metadata": {},
   "outputs": [],
   "source": [
    "def hashPDF(file, BLOCK_SIZE):\n",
    "    # hash=sha256()\n",
    "    with open(file, 'rb') as f: # Open the file to read it's bytes\n",
    "        fb = f.read(BLOCK_SIZE) # Read from the file. Take in the amount declared above\n",
    "        M = sl.sha256(fb)\n",
    "    return M\n",
    "file = \"C:/Users/guzma/OneDrive/Documents/TEC/S6/MA2006/reto/test.pdf\"\n",
    "size = os.path.getsize(file) "
   ]
  },
  {
   "cell_type": "code",
   "execution_count": 2,
   "metadata": {
    "pycharm": {
     "name": "#%%\n"
    }
   },
   "outputs": [
    {
     "data": {
      "text/plain": [
       "[{'privateKey': '935f27a247767695e8752616fbbb9e5fbf0e3f95ee0047bff46b992d8e80f704',\n",
       "  'publicKey': '2fdf0c853a621359c04c8198a95fa4ecd64a75c4e3e8803470f9509ab3e10854'},\n",
       " {'privateKey': '8f6e4bc11d5b544a4164f5bedf5032e7bd35c254a039f4bad07778308f2f7a59',\n",
       "  'publicKey': '91491f5dd4fb343d916751a2b2ba187f39354696ec404bdf37c27d8ed86159e6'},\n",
       " {'privateKey': '03f1596dce3ac764a239c3c61f7a826ba81bedfac32c8609bc074f7770dabc44',\n",
       "  'publicKey': 'b2d5f54f659e9fb412f390ae2053d02da28206a89669421af9e1128fc7f17f41'},\n",
       " {'privateKey': '86ef423058a352a9fc6ac5733993ea6156f913443ce27062629318b97e150555',\n",
       "  'publicKey': 'cab5acceb517069f1aa10a378449320e0ae207b2d2415464c63114bae0aeaabf'}]"
      ]
     },
     "execution_count": 2,
     "metadata": {},
     "output_type": "execute_result"
    }
   ],
   "source": [
    "import create_keypair as ckp\n",
    "import schnorr_lib as sl\n",
    "\n",
    "n_keys = int(input(\"Insert the number of keys to be generated:\"))\n",
    "\n",
    "ckp.create_keypair(n_keys)[\"users\"]"
   ]
  },
  {
   "cell_type": "markdown",
   "metadata": {},
   "source": [
    "## Schnorr Sign\n",
    "\n",
    "- $M$ message, $d$ is the private key, the $x$-coordinate of $P = dG$ is the public key\n",
    "- $A$, the signer, picks a random $k$, $1 < k < n$ and calculates $R = kG$\n",
    "- A computes $e = h(R || P || M)$\n",
    "- A computes $s = (k + ed) \\mod n$\n",
    "- The signature is the pair $(R_x, s)$ "
   ]
  },
  {
   "cell_type": "code",
   "execution_count": 3,
   "metadata": {},
   "outputs": [
    {
     "name": "stdout",
     "output_type": "stream",
     "text": [
      "PublicKey = <class 'str'>\n",
      "Signature = 8b40d9d6c49df70d69e6588c189c3fdbbc78ae4d99069f5eec9fc850f3f357ffc4c5277d8ff768616e415257986fe5ab2e14995a38061a4bbce03908e16f3967\n"
     ]
    }
   ],
   "source": [
    "import create_keypair as ckp\n",
    "import schnorr_lib as sl\n",
    "\n",
    "user = ckp.create_keypair(1)[\"users\"]\n",
    "\n",
    "# M = input(\"Insert the message to sign:\")\n",
    "# M = sl.sha256(M.encode())\n",
    "M = hashPDF(file, size)\n",
    "\n",
    "sig = sl.schnorr_sign(M, user[0][\"privateKey\"])\n",
    "\n",
    "print(\"PublicKey =\", user[0][\"publicKey\"])\n",
    "print(\"Signature =\",sig.hex())"
   ]
  },
  {
   "cell_type": "markdown",
   "metadata": {},
   "source": [
    "## Schnorr MuSig-1\n",
    "\n",
    "- $L = h(P_1 || ... ||P_n)$, where n is the number of users and $P_i$ is the public key of the $i^{th}$ user\n",
    "- Every user $i$ computes the quantity $a_i = h(L||P_i)$\n",
    "- The aggregate $\\tilde{X} = \\sum\\limits_{i=1}^{n} a_i P_i$ is a public parameter\n",
    "- Every user chooses $r_i$ and computes $R_i = r_i G$\n",
    "- Every user computes the point $R = R_1+...+R_n =(R_x,R_y)$\n",
    "- Every user computes $c = h(R || \\tilde{X}|| M)$\n",
    "- Every user computes $s_i = r_i + cd_i a_i \\mod N$, then the aggregate is $s=s_1+...+s_n \\mod N$\n",
    "- The signature is the couple $(R_x,s)$"
   ]
  },
  {
   "cell_type": "code",
   "execution_count": 2,
   "metadata": {
    "scrolled": true
   },
   "outputs": [
    {
     "name": "stdout",
     "output_type": "stream",
     "text": [
      "Aggregated key = 4140d0945e44d868cf7cf9672e9cae520a76ed358353027d9958a35cfd4cbba1\n",
      "Signature = bea8050a9f25ee9e59009b009382b714fac1da6d2c2066d393d3672d9a88a0e3a08e3940be3efe44a4d0d51037a3b036cb8312f7872f73e694be96562d5a14e8\n",
      "The private keys are: \n",
      "--------------------------\n",
      "Usuario 0: 87ee81ea34ff3a0aa55327350d03ff0b712a824e81b9de4ce17593f0c21a2d45\n",
      "Usuario 1: 26de68a6c61359cdec3f814e5b5afb31bf26f9655c1725c9a000aa238f7a1b4f\n"
     ]
    }
   ],
   "source": [
    "import create_keypair as ckp\n",
    "import schnorr_lib as sl\n",
    "\n",
    "n_keys = int(input(\"Insert the number of keys to be generated:\"))\n",
    "users = ckp.create_keypair(n_keys)[\"users\"]\n",
    "\n",
    "# M = input(\"Insert the message to sign:\")\n",
    "# M = sl.sha256(M.encode())\n",
    "M = hashPDF(file, size)\n",
    "\n",
    "sig, X = sl.schnorr_musig_sign(M, users)\n",
    "\n",
    "print(\"Aggregated key =\",X.hex())\n",
    "print(\"Signature =\",sig.hex())\n",
    "\n",
    "print('The private keys are: ')\n",
    "print('--------------------------')\n",
    "for u in users:\n",
    "    pk = u['privateKey']\n",
    "    print('Usuario ' + u['nameUser'] + ':', pk)"
   ]
  },
  {
   "cell_type": "code",
   "execution_count": 3,
   "metadata": {},
   "outputs": [
    {
     "ename": "RuntimeError",
     "evalue": "The created signature does not pass verification.",
     "output_type": "error",
     "traceback": [
      "\u001b[1;31m---------------------------------------------------------------------------\u001b[0m",
      "\u001b[1;31mRuntimeError\u001b[0m                              Traceback (most recent call last)",
      "\u001b[1;32mc:\\Users\\guzma\\OneDrive\\Documents\\TEC\\S6\\MA2006\\reto\\schnorr-sig\\schnorr.ipynb Cell 9'\u001b[0m in \u001b[0;36m<cell line: 11>\u001b[1;34m()\u001b[0m\n\u001b[0;32m      <a href='vscode-notebook-cell:/c%3A/Users/guzma/OneDrive/Documents/TEC/S6/MA2006/reto/schnorr-sig/schnorr.ipynb#ch0000008?line=6'>7</a>\u001b[0m \u001b[39m# M = input(\"Insert the message to sign:\")\u001b[39;00m\n\u001b[0;32m      <a href='vscode-notebook-cell:/c%3A/Users/guzma/OneDrive/Documents/TEC/S6/MA2006/reto/schnorr-sig/schnorr.ipynb#ch0000008?line=7'>8</a>\u001b[0m \u001b[39m# M = sl.sha256(M.encode())\u001b[39;00m\n\u001b[0;32m      <a href='vscode-notebook-cell:/c%3A/Users/guzma/OneDrive/Documents/TEC/S6/MA2006/reto/schnorr-sig/schnorr.ipynb#ch0000008?line=8'>9</a>\u001b[0m M \u001b[39m=\u001b[39m hashPDF(file, size)\n\u001b[1;32m---> <a href='vscode-notebook-cell:/c%3A/Users/guzma/OneDrive/Documents/TEC/S6/MA2006/reto/schnorr-sig/schnorr.ipynb#ch0000008?line=10'>11</a>\u001b[0m sig, X \u001b[39m=\u001b[39m sl\u001b[39m.\u001b[39;49mschnorr_musig_sign_test(M, users)\n\u001b[0;32m     <a href='vscode-notebook-cell:/c%3A/Users/guzma/OneDrive/Documents/TEC/S6/MA2006/reto/schnorr-sig/schnorr.ipynb#ch0000008?line=12'>13</a>\u001b[0m \u001b[39mprint\u001b[39m(\u001b[39m\"\u001b[39m\u001b[39mAggregated key =\u001b[39m\u001b[39m\"\u001b[39m,X\u001b[39m.\u001b[39mhex())\n\u001b[0;32m     <a href='vscode-notebook-cell:/c%3A/Users/guzma/OneDrive/Documents/TEC/S6/MA2006/reto/schnorr-sig/schnorr.ipynb#ch0000008?line=13'>14</a>\u001b[0m \u001b[39mprint\u001b[39m(\u001b[39m\"\u001b[39m\u001b[39mSignature =\u001b[39m\u001b[39m\"\u001b[39m,sig\u001b[39m.\u001b[39mhex())\n",
      "File \u001b[1;32mc:\\Users\\guzma\\OneDrive\\Documents\\TEC\\S6\\MA2006\\reto\\schnorr-sig\\schnorr_lib.py:501\u001b[0m, in \u001b[0;36mschnorr_musig_sign_test\u001b[1;34m(msg, users)\u001b[0m\n\u001b[0;32m    <a href='file:///c%3A/Users/guzma/OneDrive/Documents/TEC/S6/MA2006/reto/schnorr-sig/schnorr_lib.py?line=497'>498</a>\u001b[0m signature_bytes \u001b[39m=\u001b[39m bytes_from_point(Rsum) \u001b[39m+\u001b[39m bytes_from_int(sSum)\n\u001b[0;32m    <a href='file:///c%3A/Users/guzma/OneDrive/Documents/TEC/S6/MA2006/reto/schnorr-sig/schnorr_lib.py?line=499'>500</a>\u001b[0m \u001b[39mif\u001b[39;00m \u001b[39mnot\u001b[39;00m schnorr_verify(msg, bytes_from_point(X), signature_bytes):\n\u001b[1;32m--> <a href='file:///c%3A/Users/guzma/OneDrive/Documents/TEC/S6/MA2006/reto/schnorr-sig/schnorr_lib.py?line=500'>501</a>\u001b[0m     \u001b[39mraise\u001b[39;00m \u001b[39mRuntimeError\u001b[39;00m(\u001b[39m'\u001b[39m\u001b[39mThe created signature does not pass verification.\u001b[39m\u001b[39m'\u001b[39m)\n\u001b[0;32m    <a href='file:///c%3A/Users/guzma/OneDrive/Documents/TEC/S6/MA2006/reto/schnorr-sig/schnorr_lib.py?line=501'>502</a>\u001b[0m \u001b[39mreturn\u001b[39;00m signature_bytes, bytes_from_point(X)\n",
      "\u001b[1;31mRuntimeError\u001b[0m: The created signature does not pass verification."
     ]
    }
   ],
   "source": [
    "import create_keypair as ckp\n",
    "import schnorr_lib as sl\n",
    "\n",
    "n_keys = int(input(\"Insert the number of keys to be generated:\"))\n",
    "users = ckp.create_keypair(n_keys)[\"users\"]\n",
    "\n",
    "# M = input(\"Insert the message to sign:\")\n",
    "# M = sl.sha256(M.encode())\n",
    "M = hashPDF(file, size)\n",
    "\n",
    "sig, X = sl.schnorr_musig_sign_test(M, users)\n",
    "\n",
    "print(\"Aggregated key =\",X.hex())\n",
    "print(\"Signature =\",sig.hex())"
   ]
  },
  {
   "cell_type": "markdown",
   "metadata": {},
   "source": [
    "## Schnorr MuSig-2\n",
    "\n",
    "- Compute $L$, $a_i = h(L||P_i )$ and $\\tilde{X}$ as before\n",
    "- Each user $i$ chooses $\\nu$ different nonces $r_{i,1}, . . . , r_{i,ν}$ and computes the points\n",
    "$R_{i,j} = r_{i,j}G$, $\\forall j \\in \\{1,...,\\nu\\}$\n",
    "- Compute $R_j = \\sum\\limits_{i=1}^{n} R_{i,j}, \\; \\forall j \\in \\{1,...,\\nu\\}$\n",
    "- Compute the hash $b = h(R_1||...||R_{\\nu}|| \\tilde{X} || M)$, then compute $R = \\sum\\limits_{j=1}^{\\nu} b^{j-1} R_{j}$\n",
    "- Compute the hash $c = h(R || \\tilde{X}||M)$, then every user $i$ computes\n",
    "$s_i=c a_id_i+\\sum\\limits_{j=1}^{\\nu} r_{i,j}\\; b^{j−1} \\mod N$\n",
    "- Compute $s=s_1+...+s_n \\mod N$\n",
    "- The signature is the couple $(R_x,s)$."
   ]
  },
  {
   "cell_type": "code",
   "execution_count": 31,
   "metadata": {},
   "outputs": [
    {
     "name": "stdout",
     "output_type": "stream",
     "text": [
      "Aggregated key = 3dd9f89da17633fa5be72986a605afdc3477a2663bd0661198d59a93d0fb3f62\n",
      "Signature = ca50387b9e098aac7f7396551091f834c0a0c760e40b5fcedb598a3de2fc4136e871d779bfc01300e8806f26779628070fccf65b23fd58595f7deb11f89d6d00\n"
     ]
    }
   ],
   "source": [
    "import create_keypair as ckp\n",
    "import schnorr_lib as sl\n",
    "import os\n",
    "# from hashlib import sha256\n",
    "\n",
    "n_keys = int(input(\"Insert the number of keys to be generated:\"))\n",
    "# n_keys = 2\n",
    "users = ckp.create_keypair(n_keys)[\"users\"]\n",
    "\n",
    "# M = input(\"Insert the message to sign:\")\n",
    "# M = sl.sha256(M.encode())\n",
    "M = hashPDF(file, size)\n",
    "\n",
    "sig, X = sl.schnorr_musig2_sign(M, users)\n",
    "\n",
    "print(\"Aggregated key =\",X.hex())\n",
    "print(\"Signature =\",sig.hex())"
   ]
  },
  {
   "cell_type": "markdown",
   "metadata": {},
   "source": [
    "## Verify Schnorr\n",
    "\n",
    "- $B$, the receiver, computes the point $sG$\n",
    "- $B$ computes $e = h(R || P || M)$ $(P$ is equal to $\\tilde{X}$ in the MuSig cases$)$\n",
    "- if $sG = R + eP$, the signature is valid  $(P$ is equal to $\\tilde{X}$ in the MuSig cases$)$"
   ]
  },
  {
   "cell_type": "code",
   "execution_count": 4,
   "metadata": {},
   "outputs": [
    {
     "name": "stdout",
     "output_type": "stream",
     "text": [
      "The signature is VALID for this message and this public key\n"
     ]
    }
   ],
   "source": [
    "import schnorr_lib as sl\n",
    "\n",
    "# M = input(\"Insert the message to verify:\")\n",
    "# M = sl.sha256(M.encode())\n",
    "M = hashPDF(file, size)\n",
    "\n",
    "pubkey = input(\"Insert the public key (or the aggregated key if MuSig was used):\")\n",
    "pubkey_bytes = bytes.fromhex(pubkey)\n",
    "\n",
    "sig = input(\"Insert the generated sign:\")\n",
    "sig_bytes = bytes.fromhex(sig)\n",
    "\n",
    "result = sl.schnorr_verify(M, pubkey_bytes, sig_bytes)\n",
    "\n",
    "if result:\n",
    "    print(\"The signature is VALID for this message and this public key\")\n",
    "else:\n",
    "    print(\"The signature is NOT VALID for this message and this public key\")"
   ]
  }
 ],
 "metadata": {
  "interpreter": {
   "hash": "57358cf5f4913248e7ac461105d7557af272d59485a79d39fdf7eef7a4e1f358"
  },
  "kernelspec": {
   "display_name": "Python 3 (ipykernel)",
   "language": "python",
   "name": "python3"
  },
  "language_info": {
   "codemirror_mode": {
    "name": "ipython",
    "version": 3
   },
   "file_extension": ".py",
   "mimetype": "text/x-python",
   "name": "python",
   "nbconvert_exporter": "python",
   "pygments_lexer": "ipython3",
   "version": "3.9.12"
  }
 },
 "nbformat": 4,
 "nbformat_minor": 2
}
