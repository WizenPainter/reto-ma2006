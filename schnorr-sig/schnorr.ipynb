{
 "cells": [
  {
   "cell_type": "markdown",
   "metadata": {},
   "source": [
    "# Schnorr digital signatures and verification\n",
    "## Key pair generation"
   ]
  },
  {
   "cell_type": "markdown",
   "metadata": {
    "pycharm": {
     "name": "#%% md\n"
    }
   },
   "source": [
    "- $E$ is an elliptic curve, $N$ is the order of the curve\n",
    "- $G$ is a generator and $h$ is an hash function\n",
    "- The user chooses his secret key $d$, $0 < d < N$\n",
    "- The user computes the point $P = dG = (P_x, P_y)$: his public key is the $x$-coordinate, $P_x$"
   ]
  },
  {
   "cell_type": "code",
   "execution_count": 1,
   "metadata": {
    "pycharm": {
     "name": "#%%\n"
    }
   },
   "outputs": [
    {
     "data": {
      "text/plain": [
       "[{'privateKey': '4227ff939da700e659bd21e7d4a24353645e4c754b1f9b1a54716cd4face27a5',\n",
       "  'publicKey': 'a730c4ce1cf1d59c43a11a9445721d976380bf4e78fd43d7ecb19fa9935b6e8a'},\n",
       " {'privateKey': '2edff07ef38b6bdede523c9c0702058f4631e6bac275e0abe91e758e02c1f279',\n",
       "  'publicKey': '6de1b6b1ab789afc282540bcd0296104406a746f48afe0005a2c060152aa3d38'}]"
      ]
     },
     "execution_count": 1,
     "metadata": {},
     "output_type": "execute_result"
    }
   ],
   "source": [
    "import create_keypair as ckp\n",
    "import schnorr_lib as sl\n",
    "\n",
    "n_keys = int(input(\"Insert the number of keys to be generated:\"))\n",
    "\n",
    "ckp.create_keypair(n_keys)[\"users\"]"
   ]
  },
  {
   "cell_type": "markdown",
   "metadata": {},
   "source": [
    "## Schnorr Sign\n",
    "\n",
    "- $M$ message, $d$ is the private key, the $x$-coordinate of $P = dG$ is the public key\n",
    "- $A$, the signer, picks a random $k$, $1 < k < n$ and calculates $R = kG$\n",
    "- A computes $e = h(R || P || M)$\n",
    "- A computes $s = (k + ed) \\mod n$\n",
    "- The signature is the pair $(R_x, s)$ "
   ]
  },
  {
   "cell_type": "code",
   "execution_count": 2,
   "metadata": {},
   "outputs": [
    {
     "name": "stdout",
     "output_type": "stream",
     "text": [
      "PublicKey = 68a8e009f2cf30646c63a961898c08a4b0b4744d546901add74d5d54e5a358b5\n",
      "Signature = 6dc13d95b11f46c9a37dfdf51b88d3f5c323e3c25638a09805ec953e09d8409005e973986e051bac847419c326fc0d32a3bbe2b7876df600cd642c8e9d9e19f5\n"
     ]
    }
   ],
   "source": [
    "import create_keypair as ckp\n",
    "import schnorr_lib as sl\n",
    "\n",
    "user = ckp.create_keypair(1)[\"users\"]\n",
    "\n",
    "M = input(\"Insert the message to sign:\")\n",
    "M = sl.sha256(M.encode())\n",
    "\n",
    "sig = sl.schnorr_sign(M, user[0][\"privateKey\"])\n",
    "\n",
    "print(\"PublicKey =\",user[0][\"publicKey\"])\n",
    "print(\"Signature =\",sig.hex())"
   ]
  },
  {
   "cell_type": "markdown",
   "metadata": {},
   "source": [
    "## Schnorr MuSig-1\n",
    "\n",
    "- $L = h(P_1 || ... ||P_n)$, where n is the number of users and $P_i$ is the public key of the $i^{th}$ user\n",
    "- Every user $i$ computes the quantity $a_i = h(L||P_i)$\n",
    "- The aggregate $\\tilde{X} = \\sum\\limits_{i=1}^{n} a_i P_i$ is a public parameter\n",
    "- Every user chooses $r_i$ and computes $R_i = r_i G$\n",
    "- Every user computes the point $R = R_1+...+R_n =(R_x,R_y)$\n",
    "- Every user computes $c = h(R || \\tilde{X}|| M)$\n",
    "- Every user computes $s_i = r_i + cd_i a_i \\mod N$, then the aggregate is $s=s_1+...+s_n \\mod N$\n",
    "- The signature is the couple $(R_x,s)$"
   ]
  },
  {
   "cell_type": "code",
   "execution_count": 3,
   "metadata": {
    "scrolled": true
   },
   "outputs": [
    {
     "name": "stdout",
     "output_type": "stream",
     "text": [
      "Aggregated key = c71d543b34c3c2e6d7229b9f10730eee956cc56a3173213645415bcd216480bf\n",
      "Signature = b7ab2d748c09c6ddcba0ca16d61656b2b121c29150de42ccc2b050cb9f814561ddf494ef8a988fe1244d9cda3c8a319a734bd5085290213e83224b980dd6c680\n"
     ]
    }
   ],
   "source": [
    "import create_keypair as ckp\n",
    "import schnorr_lib as sl\n",
    "\n",
    "n_keys = int(input(\"Insert the number of keys to be generated:\"))\n",
    "users = ckp.create_keypair(n_keys)[\"users\"]\n",
    "\n",
    "M = input(\"Insert the message to sign:\")\n",
    "M = sl.sha256(M.encode())\n",
    "\n",
    "sig, X = sl.schnorr_musig_sign(M, users)\n",
    "\n",
    "print(\"Aggregated key =\",X.hex())\n",
    "print(\"Signature =\",sig.hex())"
   ]
  },
  {
   "cell_type": "markdown",
   "metadata": {},
   "source": [
    "## Schnorr MuSig-2\n",
    "\n",
    "- Compute $L$, $a_i = h(L||P_i )$ and $\\tilde{X}$ as before\n",
    "- Each user $i$ chooses $\\nu$ different nonces $r_{i,1}, . . . , r_{i,ν}$ and computes the points\n",
    "$R_{i,j} = r_{i,j}G$, $\\forall j \\in \\{1,...,\\nu\\}$\n",
    "- Compute $R_j = \\sum\\limits_{i=1}^{n} R_{i,j}, \\; \\forall j \\in \\{1,...,\\nu\\}$\n",
    "- Compute the hash $b = h(R_1||...||R_{\\nu}|| \\tilde{X} || M)$, then compute $R = \\sum\\limits_{j=1}^{\\nu} b^{j-1} R_{j}$\n",
    "- Compute the hash $c = h(R || \\tilde{X}||M)$, then every user $i$ computes\n",
    "$s_i=c a_id_i+\\sum\\limits_{j=1}^{\\nu} r_{i,j}\\; b^{j−1} \\mod N$\n",
    "- Compute $s=s_1+...+s_n \\mod N$\n",
    "- The signature is the couple $(R_x,s)$."
   ]
  },
  {
   "cell_type": "code",
   "execution_count": 4,
   "metadata": {},
   "outputs": [
    {
     "name": "stdout",
     "output_type": "stream",
     "text": [
      "Aggregated key = 3d6db5306839b9cad9e60bcb74277382feead72c04db62ebf5a800c7bedd66ba\n",
      "Signature = ff26003ac6ad7c3b364be8810502febbdbff821545df4a9943a5a92b7432177ac845f24825b879c482d1f2014291b99f3aae542ce9ff65da96436c3b66766c1b\n"
     ]
    }
   ],
   "source": [
    "import create_keypair as ckp\n",
    "import schnorr_lib as sl\n",
    "\n",
    "n_keys = int(input(\"Insert the number of keys to be generated:\"))\n",
    "users = ckp.create_keypair(n_keys)[\"users\"]\n",
    "\n",
    "M = input(\"Insert the message to sign:\")\n",
    "M = sl.sha256(M.encode())\n",
    "\n",
    "sig, X = sl.schnorr_musig2_sign(M, users)\n",
    "\n",
    "print(\"Aggregated key =\",X.hex())\n",
    "print(\"Signature =\",sig.hex())"
   ]
  },
  {
   "cell_type": "markdown",
   "metadata": {},
   "source": [
    "## Verify Schnorr\n",
    "\n",
    "- $B$, the receiver, computes the point $sG$\n",
    "- $B$ computes $e = h(R || P || M)$ $(P$ is equal to $\\tilde{X}$ in the MuSig cases$)$\n",
    "- if $sG = R + eP$, the signature is valid  $(P$ is equal to $\\tilde{X}$ in the MuSig cases$)$"
   ]
  },
  {
   "cell_type": "code",
   "execution_count": 5,
   "metadata": {},
   "outputs": [
    {
     "name": "stdout",
     "output_type": "stream",
     "text": [
      "The signature is VALID for this message and this public key\n"
     ]
    }
   ],
   "source": [
    "import schnorr_lib as sl\n",
    "\n",
    "M = input(\"Insert the message to verify:\")\n",
    "M = sl.sha256(M.encode())\n",
    "\n",
    "pubkey = input(\"Insert the public key (or the aggregated key if MuSig was used):\")\n",
    "pubkey_bytes = bytes.fromhex(pubkey)\n",
    "\n",
    "sig = input(\"Insert the generated sign:\")\n",
    "sig_bytes = bytes.fromhex(sig)\n",
    "\n",
    "result = sl.schnorr_verify(M, pubkey_bytes, sig_bytes)\n",
    "\n",
    "if result:\n",
    "    print(\"The signature is VALID for this message and this public key\")\n",
    "else:\n",
    "    print(\"The signature is NOT VALID for this message and this public key\")"
   ]
  }
 ],
 "metadata": {
  "interpreter": {
   "hash": "57358cf5f4913248e7ac461105d7557af272d59485a79d39fdf7eef7a4e1f358"
  },
  "kernelspec": {
   "display_name": "Python 3 (ipykernel)",
   "language": "python",
   "name": "python3"
  },
  "language_info": {
   "codemirror_mode": {
    "name": "ipython",
    "version": 3
   },
   "file_extension": ".py",
   "mimetype": "text/x-python",
   "name": "python",
   "nbconvert_exporter": "python",
   "pygments_lexer": "ipython3",
   "version": "3.9.12"
  }
 },
 "nbformat": 4,
 "nbformat_minor": 2
}
