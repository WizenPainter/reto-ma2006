{
 "cells": [
  {
   "cell_type": "markdown",
   "metadata": {},
   "source": [
    "# Schnorr digital signatures and verification\n",
    "## Key pair generation"
   ]
  },
  {
   "cell_type": "markdown",
   "metadata": {
    "pycharm": {
     "name": "#%% md\n"
    }
   },
   "source": [
    "- $E$ is an elliptic curve, $N$ is the order of the curve\n",
    "- $G$ is a generator and $h$ is an hash function\n",
    "- The user chooses his secret key $d$, $0 < d < N$\n",
    "- The user computes the point $P = dG = (P_x, P_y)$: his public key is the $x$-coordinate, $P_x$"
   ]
  },
  {
   "cell_type": "code",
   "execution_count": 146,
   "metadata": {},
   "outputs": [],
   "source": [
    "def hashPDF(file, BLOCK_SIZE):\n",
    "    # hash=sha256()\n",
    "    with open(file, 'rb') as f: # Open the file to read it's bytes\n",
    "        fb = f.read(BLOCK_SIZE) # Read from the file. Take in the amount declared above\n",
    "        M = sl.sha256(fb)\n",
    "    return M\n",
    "file = \"D:/Documentos/pdf-test.pdf\"\n",
    "size = os.path.getsize(file) "
   ]
  },
  {
   "cell_type": "code",
   "execution_count": 117,
   "metadata": {
    "pycharm": {
     "name": "#%%\n"
    }
   },
   "outputs": [
    {
     "data": {
      "text/plain": [
       "[{'nameUser': '0',\n",
       "  'privateKey': 'd222bae3d092d4070b910d7cce4ee4cad5d581ccaea8f040bf7e029c1c6e01d8',\n",
       "  'publicKey': '0a2466fa12ff6b8bfd5befd8e6b91dd9f10da6bc592964474bb9854da9a22b92'}]"
      ]
     },
     "execution_count": 117,
     "metadata": {},
     "output_type": "execute_result"
    }
   ],
   "source": [
    "import create_keypair as ckp\n",
    "import schnorr_lib as sl\n",
    "\n",
    "n_keys = int(input(\"Insert the number of keys to be generated:\"))\n",
    "\n",
    "ckp.create_keypair(n_keys)[\"users\"]"
   ]
  },
  {
   "cell_type": "markdown",
   "metadata": {},
   "source": [
    "## Schnorr Sign\n",
    "\n",
    "- $M$ message, $d$ is the private key, the $x$-coordinate of $P = dG$ is the public key\n",
    "- $A$, the signer, picks a random $k$, $1 < k < n$ and calculates $R = kG$\n",
    "- A computes $e = h(R || P || M)$\n",
    "- A computes $s = (k + ed) \\mod n$\n",
    "- The signature is the pair $(R_x, s)$ "
   ]
  },
  {
   "cell_type": "code",
   "execution_count": 147,
   "metadata": {},
   "outputs": [
    {
     "name": "stdout",
     "output_type": "stream",
     "text": [
      "PublicKey = 822e75cd09a8a8c033d73b9c509ddc2c05329b3777fbfb9e81dc082c20e75a89\n",
      "Signature = fa8b91ec913d512c9e253aa167b7a7783f0526dae4ce3aaccc9c7901f2090501ef23bd05303b21b2f484ae7ead4e86de3486b1147ac5b09c12d9fa1315bf9aa1\n"
     ]
    }
   ],
   "source": [
    "import create_keypair as ckp\n",
    "import schnorr_lib as sl\n",
    "\n",
    "user = ckp.create_keypair(1)[\"users\"]\n",
    "\n",
    "# M = input(\"Insert the message to sign:\")\n",
    "# M = sl.sha256(M.encode())\n",
    "M = hashPDF(file, size)\n",
    "\n",
    "sig = sl.schnorr_sign(M, user[0][\"privateKey\"])\n",
    "\n",
    "print(\"PublicKey =\", user[0][\"publicKey\"])\n",
    "print(\"Signature =\",sig.hex())"
   ]
  },
  {
   "cell_type": "markdown",
   "metadata": {},
   "source": [
    "## Schnorr MuSig-1\n",
    "\n",
    "- $L = h(P_1 || ... ||P_n)$, where n is the number of users and $P_i$ is the public key of the $i^{th}$ user\n",
    "- Every user $i$ computes the quantity $a_i = h(L||P_i)$\n",
    "- The aggregate $\\tilde{X} = \\sum\\limits_{i=1}^{n} a_i P_i$ is a public parameter\n",
    "- Every user chooses $r_i$ and computes $R_i = r_i G$\n",
    "- Every user computes the point $R = R_1+...+R_n =(R_x,R_y)$\n",
    "- Every user computes $c = h(R || \\tilde{X}|| M)$\n",
    "- Every user computes $s_i = r_i + cd_i a_i \\mod N$, then the aggregate is $s=s_1+...+s_n \\mod N$\n",
    "- The signature is the couple $(R_x,s)$"
   ]
  },
  {
   "cell_type": "code",
   "execution_count": 34,
   "metadata": {
    "scrolled": true
   },
   "outputs": [
    {
     "name": "stdout",
     "output_type": "stream",
     "text": [
      "Aggregated key = 142cf6d8a0fcea2900caa8d116cfe08e517c8565763486abf7828e0a4dfed669\n",
      "Signature = b0614dfe268d84b465d08e56067bfed8fd29915f45e913c0da037974e5527a8a12d01a27734feb98626044eb9d72917a37ce71f38acd3b33817d1e019b64db41\n",
      "The private keys are: \n",
      "--------------------------\n",
      "Usuario 0: 1524e9f04aaf6c8b764c08bdf3775248ed959184f328104cf0375081dca1ba85\n",
      "Usuario 1: 32cd7cf2d876d63a259f00ba4a6405a78a305e33d095209b0c861885482ee9a1\n"
     ]
    }
   ],
   "source": [
    "import create_keypair as ckp\n",
    "import schnorr_lib as sl\n",
    "\n",
    "n_keys = int(input(\"Insert the number of keys to be generated:\"))\n",
    "users = ckp.create_keypair(n_keys)[\"users\"]\n",
    "\n",
    "# M = input(\"Insert the message to sign:\")\n",
    "# M = sl.sha256(M.encode())\n",
    "M = hashPDF(file, size)\n",
    "\n",
    "sig, X = sl.schnorr_musig_sign(M, users)\n",
    "\n",
    "print(\"Aggregated key =\",X.hex())\n",
    "print(\"Signature =\",sig.hex())\n",
    "\n",
    "print('The private keys are: ')\n",
    "print('--------------------------')\n",
    "for u in users:\n",
    "    pk = u['privateKey']\n",
    "    print('Usuario ' + u['nameUser'] + ':', pk)"
   ]
  },
  {
   "cell_type": "code",
   "execution_count": 28,
   "metadata": {},
   "outputs": [
    {
     "ename": "KeyboardInterrupt",
     "evalue": "Interrupted by user",
     "output_type": "error",
     "traceback": [
      "\u001b[1;31m---------------------------------------------------------------------------\u001b[0m",
      "\u001b[1;31mKeyboardInterrupt\u001b[0m                         Traceback (most recent call last)",
      "\u001b[1;32md:\\Documentos\\Visual Studio\\reto-ma2006\\schnorr-sig\\schnorr.ipynb Cell 9'\u001b[0m in \u001b[0;36m<cell line: 4>\u001b[1;34m()\u001b[0m\n\u001b[0;32m      <a href='vscode-notebook-cell:/d%3A/Documentos/Visual%20Studio/reto-ma2006/schnorr-sig/schnorr.ipynb#ch0000008?line=0'>1</a>\u001b[0m \u001b[39mimport\u001b[39;00m \u001b[39mcreate_keypair\u001b[39;00m \u001b[39mas\u001b[39;00m \u001b[39mckp\u001b[39;00m\n\u001b[0;32m      <a href='vscode-notebook-cell:/d%3A/Documentos/Visual%20Studio/reto-ma2006/schnorr-sig/schnorr.ipynb#ch0000008?line=1'>2</a>\u001b[0m \u001b[39mimport\u001b[39;00m \u001b[39mschnorr_lib\u001b[39;00m \u001b[39mas\u001b[39;00m \u001b[39msl\u001b[39;00m\n\u001b[1;32m----> <a href='vscode-notebook-cell:/d%3A/Documentos/Visual%20Studio/reto-ma2006/schnorr-sig/schnorr.ipynb#ch0000008?line=3'>4</a>\u001b[0m n_keys \u001b[39m=\u001b[39m \u001b[39mint\u001b[39m(\u001b[39minput\u001b[39;49m(\u001b[39m\"\u001b[39;49m\u001b[39mInsert the number of keys to be generated:\u001b[39;49m\u001b[39m\"\u001b[39;49m))\n\u001b[0;32m      <a href='vscode-notebook-cell:/d%3A/Documentos/Visual%20Studio/reto-ma2006/schnorr-sig/schnorr.ipynb#ch0000008?line=4'>5</a>\u001b[0m users \u001b[39m=\u001b[39m ckp\u001b[39m.\u001b[39mcreate_keypair(n_keys)[\u001b[39m\"\u001b[39m\u001b[39musers\u001b[39m\u001b[39m\"\u001b[39m]\n\u001b[0;32m      <a href='vscode-notebook-cell:/d%3A/Documentos/Visual%20Studio/reto-ma2006/schnorr-sig/schnorr.ipynb#ch0000008?line=6'>7</a>\u001b[0m \u001b[39m# M = input(\"Insert the message to sign:\")\u001b[39;00m\n\u001b[0;32m      <a href='vscode-notebook-cell:/d%3A/Documentos/Visual%20Studio/reto-ma2006/schnorr-sig/schnorr.ipynb#ch0000008?line=7'>8</a>\u001b[0m \u001b[39m# M = sl.sha256(M.encode())\u001b[39;00m\n",
      "File \u001b[1;32m~\\AppData\\Local\\Programs\\Python\\Python39\\lib\\site-packages\\ipykernel\\kernelbase.py:1161\u001b[0m, in \u001b[0;36mKernel.raw_input\u001b[1;34m(self, prompt)\u001b[0m\n\u001b[0;32m   <a href='file:///c%3A/Users/gdelv/AppData/Local/Programs/Python/Python39/lib/site-packages/ipykernel/kernelbase.py?line=1156'>1157</a>\u001b[0m \u001b[39mif\u001b[39;00m \u001b[39mnot\u001b[39;00m \u001b[39mself\u001b[39m\u001b[39m.\u001b[39m_allow_stdin:\n\u001b[0;32m   <a href='file:///c%3A/Users/gdelv/AppData/Local/Programs/Python/Python39/lib/site-packages/ipykernel/kernelbase.py?line=1157'>1158</a>\u001b[0m     \u001b[39mraise\u001b[39;00m StdinNotImplementedError(\n\u001b[0;32m   <a href='file:///c%3A/Users/gdelv/AppData/Local/Programs/Python/Python39/lib/site-packages/ipykernel/kernelbase.py?line=1158'>1159</a>\u001b[0m         \u001b[39m\"\u001b[39m\u001b[39mraw_input was called, but this frontend does not support input requests.\u001b[39m\u001b[39m\"\u001b[39m\n\u001b[0;32m   <a href='file:///c%3A/Users/gdelv/AppData/Local/Programs/Python/Python39/lib/site-packages/ipykernel/kernelbase.py?line=1159'>1160</a>\u001b[0m     )\n\u001b[1;32m-> <a href='file:///c%3A/Users/gdelv/AppData/Local/Programs/Python/Python39/lib/site-packages/ipykernel/kernelbase.py?line=1160'>1161</a>\u001b[0m \u001b[39mreturn\u001b[39;00m \u001b[39mself\u001b[39;49m\u001b[39m.\u001b[39;49m_input_request(\n\u001b[0;32m   <a href='file:///c%3A/Users/gdelv/AppData/Local/Programs/Python/Python39/lib/site-packages/ipykernel/kernelbase.py?line=1161'>1162</a>\u001b[0m     \u001b[39mstr\u001b[39;49m(prompt),\n\u001b[0;32m   <a href='file:///c%3A/Users/gdelv/AppData/Local/Programs/Python/Python39/lib/site-packages/ipykernel/kernelbase.py?line=1162'>1163</a>\u001b[0m     \u001b[39mself\u001b[39;49m\u001b[39m.\u001b[39;49m_parent_ident[\u001b[39m\"\u001b[39;49m\u001b[39mshell\u001b[39;49m\u001b[39m\"\u001b[39;49m],\n\u001b[0;32m   <a href='file:///c%3A/Users/gdelv/AppData/Local/Programs/Python/Python39/lib/site-packages/ipykernel/kernelbase.py?line=1163'>1164</a>\u001b[0m     \u001b[39mself\u001b[39;49m\u001b[39m.\u001b[39;49mget_parent(\u001b[39m\"\u001b[39;49m\u001b[39mshell\u001b[39;49m\u001b[39m\"\u001b[39;49m),\n\u001b[0;32m   <a href='file:///c%3A/Users/gdelv/AppData/Local/Programs/Python/Python39/lib/site-packages/ipykernel/kernelbase.py?line=1164'>1165</a>\u001b[0m     password\u001b[39m=\u001b[39;49m\u001b[39mFalse\u001b[39;49;00m,\n\u001b[0;32m   <a href='file:///c%3A/Users/gdelv/AppData/Local/Programs/Python/Python39/lib/site-packages/ipykernel/kernelbase.py?line=1165'>1166</a>\u001b[0m )\n",
      "File \u001b[1;32m~\\AppData\\Local\\Programs\\Python\\Python39\\lib\\site-packages\\ipykernel\\kernelbase.py:1205\u001b[0m, in \u001b[0;36mKernel._input_request\u001b[1;34m(self, prompt, ident, parent, password)\u001b[0m\n\u001b[0;32m   <a href='file:///c%3A/Users/gdelv/AppData/Local/Programs/Python/Python39/lib/site-packages/ipykernel/kernelbase.py?line=1201'>1202</a>\u001b[0m             \u001b[39mbreak\u001b[39;00m\n\u001b[0;32m   <a href='file:///c%3A/Users/gdelv/AppData/Local/Programs/Python/Python39/lib/site-packages/ipykernel/kernelbase.py?line=1202'>1203</a>\u001b[0m \u001b[39mexcept\u001b[39;00m \u001b[39mKeyboardInterrupt\u001b[39;00m:\n\u001b[0;32m   <a href='file:///c%3A/Users/gdelv/AppData/Local/Programs/Python/Python39/lib/site-packages/ipykernel/kernelbase.py?line=1203'>1204</a>\u001b[0m     \u001b[39m# re-raise KeyboardInterrupt, to truncate traceback\u001b[39;00m\n\u001b[1;32m-> <a href='file:///c%3A/Users/gdelv/AppData/Local/Programs/Python/Python39/lib/site-packages/ipykernel/kernelbase.py?line=1204'>1205</a>\u001b[0m     \u001b[39mraise\u001b[39;00m \u001b[39mKeyboardInterrupt\u001b[39;00m(\u001b[39m\"\u001b[39m\u001b[39mInterrupted by user\u001b[39m\u001b[39m\"\u001b[39m) \u001b[39mfrom\u001b[39;00m \u001b[39mNone\u001b[39m\n\u001b[0;32m   <a href='file:///c%3A/Users/gdelv/AppData/Local/Programs/Python/Python39/lib/site-packages/ipykernel/kernelbase.py?line=1205'>1206</a>\u001b[0m \u001b[39mexcept\u001b[39;00m \u001b[39mException\u001b[39;00m:\n\u001b[0;32m   <a href='file:///c%3A/Users/gdelv/AppData/Local/Programs/Python/Python39/lib/site-packages/ipykernel/kernelbase.py?line=1206'>1207</a>\u001b[0m     \u001b[39mself\u001b[39m\u001b[39m.\u001b[39mlog\u001b[39m.\u001b[39mwarning(\u001b[39m\"\u001b[39m\u001b[39mInvalid Message:\u001b[39m\u001b[39m\"\u001b[39m, exc_info\u001b[39m=\u001b[39m\u001b[39mTrue\u001b[39;00m)\n",
      "\u001b[1;31mKeyboardInterrupt\u001b[0m: Interrupted by user"
     ]
    }
   ],
   "source": [
    "import create_keypair as ckp\n",
    "import schnorr_lib as sl\n",
    "\n",
    "n_keys = int(input(\"Insert the number of keys to be generated:\"))\n",
    "users = ckp.create_keypair(n_keys)[\"users\"]\n",
    "\n",
    "# M = input(\"Insert the message to sign:\")\n",
    "# M = sl.sha256(M.encode())\n",
    "M = hashPDF(file, size)\n",
    "\n",
    "sig, X = sl.schnorr_musig_sign_test(M, users)\n",
    "\n",
    "print(\"Aggregated key =\",X.hex())\n",
    "print(\"Signature =\",sig.hex())"
   ]
  },
  {
   "cell_type": "markdown",
   "metadata": {},
   "source": [
    "## Schnorr MuSig-2\n",
    "\n",
    "- Compute $L$, $a_i = h(L||P_i )$ and $\\tilde{X}$ as before\n",
    "- Each user $i$ chooses $\\nu$ different nonces $r_{i,1}, . . . , r_{i,ν}$ and computes the points\n",
    "$R_{i,j} = r_{i,j}G$, $\\forall j \\in \\{1,...,\\nu\\}$\n",
    "- Compute $R_j = \\sum\\limits_{i=1}^{n} R_{i,j}, \\; \\forall j \\in \\{1,...,\\nu\\}$\n",
    "- Compute the hash $b = h(R_1||...||R_{\\nu}|| \\tilde{X} || M)$, then compute $R = \\sum\\limits_{j=1}^{\\nu} b^{j-1} R_{j}$\n",
    "- Compute the hash $c = h(R || \\tilde{X}||M)$, then every user $i$ computes\n",
    "$s_i=c a_id_i+\\sum\\limits_{j=1}^{\\nu} r_{i,j}\\; b^{j−1} \\mod N$\n",
    "- Compute $s=s_1+...+s_n \\mod N$\n",
    "- The signature is the couple $(R_x,s)$."
   ]
  },
  {
   "cell_type": "code",
   "execution_count": 31,
   "metadata": {},
   "outputs": [
    {
     "name": "stdout",
     "output_type": "stream",
     "text": [
      "Aggregated key = 3dd9f89da17633fa5be72986a605afdc3477a2663bd0661198d59a93d0fb3f62\n",
      "Signature = ca50387b9e098aac7f7396551091f834c0a0c760e40b5fcedb598a3de2fc4136e871d779bfc01300e8806f26779628070fccf65b23fd58595f7deb11f89d6d00\n"
     ]
    }
   ],
   "source": [
    "import create_keypair as ckp\n",
    "import schnorr_lib as sl\n",
    "import os\n",
    "# from hashlib import sha256\n",
    "\n",
    "n_keys = int(input(\"Insert the number of keys to be generated:\"))\n",
    "# n_keys = 2\n",
    "users = ckp.create_keypair(n_keys)[\"users\"]\n",
    "\n",
    "# M = input(\"Insert the message to sign:\")\n",
    "# M = sl.sha256(M.encode())\n",
    "M = hashPDF(file, size)\n",
    "\n",
    "sig, X = sl.schnorr_musig2_sign(M, users)\n",
    "\n",
    "print(\"Aggregated key =\",X.hex())\n",
    "print(\"Signature =\",sig.hex())"
   ]
  },
  {
   "cell_type": "markdown",
   "metadata": {},
   "source": [
    "## Verify Schnorr\n",
    "\n",
    "- $B$, the receiver, computes the point $sG$\n",
    "- $B$ computes $e = h(R || P || M)$ $(P$ is equal to $\\tilde{X}$ in the MuSig cases$)$\n",
    "- if $sG = R + eP$, the signature is valid  $(P$ is equal to $\\tilde{X}$ in the MuSig cases$)$"
   ]
  },
  {
   "cell_type": "code",
   "execution_count": 4,
   "metadata": {},
   "outputs": [
    {
     "name": "stdout",
     "output_type": "stream",
     "text": [
      "The signature is VALID for this message and this public key\n"
     ]
    }
   ],
   "source": [
    "import schnorr_lib as sl\n",
    "\n",
    "# M = input(\"Insert the message to verify:\")\n",
    "# M = sl.sha256(M.encode())\n",
    "M = hashPDF(file, size)\n",
    "\n",
    "pubkey = input(\"Insert the public key (or the aggregated key if MuSig was used):\")\n",
    "pubkey_bytes = bytes.fromhex(pubkey)\n",
    "\n",
    "sig = input(\"Insert the generated sign:\")\n",
    "sig_bytes = bytes.fromhex(sig)\n",
    "\n",
    "result = sl.schnorr_verify(M, pubkey_bytes, sig_bytes)\n",
    "\n",
    "if result:\n",
    "    print(\"The signature is VALID for this message and this public key\")\n",
    "else:\n",
    "    print(\"The signature is NOT VALID for this message and this public key\")"
   ]
  },
  {
   "cell_type": "code",
   "execution_count": 88,
   "metadata": {},
   "outputs": [
    {
     "name": "stdout",
     "output_type": "stream",
     "text": [
      "b'\\xba\\xd4\\x90\\x1e\\x88\\x80\\xd2VL\\xf8w\\xd0\\x7f\\xbe\\xc4\\xf0\\xfbu\\xa8\\x80\\xcd\\xa8\\xdc\\t.\\x9d\\xd4\\xceB \\xd7\\x18'\n",
      "b\"\\x99\\x15'HY\\x96\\xe8\\xff\\x9f\\xef\\x895:\\xcb\\xba\\xd7\\r\\x1d\\xe5.\\xb0\\xec`\\xaf%\\xd8\\x87Q~\\x80\\xd8.\"\n"
     ]
    }
   ],
   "source": [
    "import schnorr_lib as sl\n",
    "\n",
    "a = sl.pubkey_gen_from_hex('59e9e3efc71935c1c89cb4d8649cb1854fd6925e9de7cf53983def4720ea62a4')\n",
    "b = sl.pubkey_gen_from_hex('d87112722e49137dd7af0546b1522d05804dae37b2ab59151a836d34ad3ac2e9')\n",
    "\n",
    "print(a)\n",
    "print(b)"
   ]
  },
  {
   "cell_type": "code",
   "execution_count": 12,
   "metadata": {},
   "outputs": [
    {
     "data": {
      "text/plain": [
       "b\"\\xc5\\xf9\\x15\\x16M\\xfd\\x96U8r=c\\x9a\\x91\\xf3\\x8e\\x9e\\x8b\\xcc\\x1c!\\x16\\x96\\x00\\x17O\\xbfA0\\x0b]\\xb6\\x99\\x15'HY\\x96\\xe8\\xff\\x9f\\xef\\x895:\\xcb\\xba\\xd7\\r\\x1d\\xe5.\\xb0\\xec`\\xaf%\\xd8\\x87Q~\\x80\\xd8.\""
      ]
     },
     "execution_count": 12,
     "metadata": {},
     "output_type": "execute_result"
    }
   ],
   "source": [
    "a+b"
   ]
  },
  {
   "cell_type": "code",
   "execution_count": 89,
   "metadata": {},
   "outputs": [
    {
     "name": "stdout",
     "output_type": "stream",
     "text": [
      "b'\\xba\\xd4\\x90\\x1e\\x88\\x80\\xd2VL\\xf8w\\xd0\\x7f\\xbe\\xc4\\xf0\\xfbu\\xa8\\x80\\xcd\\xa8\\xdc\\t.\\x9d\\xd4\\xceB \\xd7\\x18'\n"
     ]
    }
   ],
   "source": [
    "di = sl.int_from_hex('59e9e3efc71935c1c89cb4d8649cb1854fd6925e9de7cf53983def4720ea62a4')\n",
    "\n",
    "Pi = sl.pubkey_point_gen_from_int(di)\n",
    "\n",
    "l = sl.bytes_from_point(Pi)\n",
    "print(l)"
   ]
  },
  {
   "cell_type": "code",
   "execution_count": 68,
   "metadata": {},
   "outputs": [
    {
     "name": "stdout",
     "output_type": "stream",
     "text": [
      "b'\\\\xd2\\\\xd7\\\\xe9\\\\xf06}\\\\xae\\\\xb9\\\\xdbN\\\\xdcl\\\\x99I\\\\x90&\\\\xb9\\\\x94\\\\xad\\\\xf7\\\\xcb\\\\xe5\\\\n\\\\xfd\\\\xe3=D\\\\xd9\\\\xb0\\\\x9eq\\\\xec\\n'\n",
      "b'\\\\xca\\\\xccmg.\\\\xd1\\\\xc4\\\\x92M\\\\xc7O\\\\x8f|\\\\xd0n\\\\xb1hy\\\\xe9\\\\xbb2k\\\\x08\\\\x15p\\\\xa04\\\\xbd\\\\x9f\\\\xa7\\\\xbe\\\\xcb\\n'\n",
      "b'8\\\\n\\\\xc9\\\\xb4\\\\xf0\\\\xd5p\\\\xec\\\\x15\\\\xe5\\\\x10|]\\\\x95\\\\x0c\\\\xcd\\\\x03Gk:\\\\xd7?[\\\\x0ccus\\\\x9aT6\\\\x0ca\\n'\n",
      "b'*k\\\\x0b\\\\xaa\\\\xeb\\\\x8c\\\\x8dJ\\\\x12\\\\xcayA\\\\x07]v\\\\x97\\\\xd9\\\\xc7\\\\xf6\\\\xf4\\\\xb2\\\\xf6\\\\x0b\\\\xb8(\\\\xa9W=\\\\xd9x\\\\xdd\\\\x98\\n'\n"
     ]
    }
   ],
   "source": [
    "with open('claves_esquema.txt', 'r+') as f:\n",
    "    for line in f.readlines():\n",
    "        \n",
    "        print(str.encode(line))\n",
    "        "
   ]
  },
  {
   "cell_type": "code",
   "execution_count": 141,
   "metadata": {},
   "outputs": [
    {
     "name": "stdout",
     "output_type": "stream",
     "text": [
      "(24580980305957555103045113148648703534438321682711720736306625853305621270336, 20713868159575387609769455025290222095543108921563027241775336249791269973015)\n",
      "(93252495296415218193867072540494209341928978276519761996748888892937766185582, 70278387588714629666492194513949237952114789670643427583012087451060104410297)\n"
     ]
    },
    {
     "data": {
      "text/plain": [
       "tuple"
      ]
     },
     "execution_count": 141,
     "metadata": {},
     "output_type": "execute_result"
    }
   ],
   "source": [
    "import json\n",
    "import ast\n",
    "with open('claves.json') as json_file:\n",
    "    data = json.load(json_file)\n",
    "\n",
    "for i in data:\n",
    "    print(i['Ri'])\n",
    "\n",
    "mh = ast.literal_eval(data[0]['Ri'])\n",
    "type(mh)"
   ]
  },
  {
   "cell_type": "code",
   "execution_count": 182,
   "metadata": {},
   "outputs": [],
   "source": [
    "import json\n",
    "\n",
    "n = 0xFFFFFFFFFFFFFFFFFFFFFFFFFFFFFFFEBAAEDCE6AF48A03BBFD25E8CD0364141\n",
    "with open('claves.json') as json_file:\n",
    "    data = json.load(json_file)\n",
    "\n",
    "L = b''\n",
    "for i in data: \n",
    "    int_clave = int(i['Clave Publica'])\n",
    "    byte_clave = sl.bytes_from_int(int_clave)\n",
    "    L += byte_clave\n",
    "\n",
    "L = sl.sha256(L)\n",
    "\n",
    "Rsum = None\n",
    "X = None\n",
    "\n",
    "lista_ai = []\n",
    "for u in data:\n",
    "    int_clave = int(u['Clave Publica'])\n",
    "    byte_clave = sl.bytes_from_int(int_clave)\n",
    "    int_ri = ast.literal_eval(u['Ri'])\n",
    "\n",
    "    ai = sl.int_from_bytes(sl.sha256(L + byte_clave))\n",
    "    lista_ai.append(ai)\n",
    "\n",
    "    X = sl.point_add(X, sl.point_mul(byte_clave, ai))\n",
    "\n",
    "    Rsum = sl.point_add(Rsum, int_ri)   \n",
    "\n",
    "c = sl.int_from_bytes(sl.tagged_hash(\"BIP0340/challenge\", (sl.bytes_from_point(Rsum) + sl.bytes_from_point(X) + M))) % n\n",
    "\n",
    "with open('users.json', 'r') as f:\n",
    "    data_1 = json.load(f)\n",
    "\n",
    "priv_key = data_1['users'][0]['privateKey']\n",
    "priv_key = sl.int_from_hex(priv_key)\n",
    "\n",
    "ki = ast.literal_eval(data[0]['Ri'])\n",
    "ki = sl.bytes_from_point(ki)\n",
    "ki = sl.int_from_bytes(ki)\n",
    "\n",
    "\n",
    "s = (c * priv_key* lista_ai[0]+ ki) % n\n",
    "\n",
    "\n"
   ]
  },
  {
   "cell_type": "code",
   "execution_count": 165,
   "metadata": {},
   "outputs": [
    {
     "data": {
      "text/plain": [
       "68331271218444668060378632121902164747310612146524190360195753234852345666484"
      ]
     },
     "execution_count": 165,
     "metadata": {},
     "output_type": "execute_result"
    }
   ],
   "source": [
    "c"
   ]
  },
  {
   "cell_type": "code",
   "execution_count": 171,
   "metadata": {},
   "outputs": [
    {
     "data": {
      "text/plain": [
       "46643961751578825509459818638095196334912193712145300047638678117453044880802"
      ]
     },
     "execution_count": 171,
     "metadata": {},
     "output_type": "execute_result"
    }
   ],
   "source": [
    "lista_ai[0]"
   ]
  },
  {
   "cell_type": "code",
   "execution_count": 179,
   "metadata": {},
   "outputs": [
    {
     "data": {
      "text/plain": [
       "24580980305957555103045113148648703534438321682711720736306625853305621270336"
      ]
     },
     "execution_count": 179,
     "metadata": {},
     "output_type": "execute_result"
    }
   ],
   "source": [
    "o = ast.literal_eval(data[0]['Ri'])\n",
    "u = sl.bytes_from_point(o)\n",
    "p = sl.int_from_bytes(u)\n",
    "p"
   ]
  },
  {
   "cell_type": "code",
   "execution_count": 172,
   "metadata": {},
   "outputs": [
    {
     "data": {
      "text/plain": [
       "78628772642100123313386464286175402563176252166562872321852210455076943245811"
      ]
     },
     "execution_count": 172,
     "metadata": {},
     "output_type": "execute_result"
    }
   ],
   "source": [
    "priv_key"
   ]
  },
  {
   "cell_type": "code",
   "execution_count": 175,
   "metadata": {},
   "outputs": [
    {
     "data": {
      "text/plain": [
       "250608863760748975628293848266937422410037547571723902197668827754895431514082472823800886070806442055447656902776499080418505196986514110273078358891601507361331425224231854618633752141305576756645541960247012591633507140708136248"
      ]
     },
     "execution_count": 175,
     "metadata": {},
     "output_type": "execute_result"
    }
   ],
   "source": [
    "s"
   ]
  },
  {
   "cell_type": "code",
   "execution_count": 181,
   "metadata": {},
   "outputs": [
    {
     "data": {
      "text/plain": [
       "178702237320023093114683832571444789129456612099300630326332035887291339658031831142496675963187830709847320927838817329439970615657879531322978917904433996145710504122191803567321582484523556166689129565908787700669342786208359704"
      ]
     },
     "execution_count": 181,
     "metadata": {},
     "output_type": "execute_result"
    }
   ],
   "source": [
    "s"
   ]
  },
  {
   "cell_type": "code",
   "execution_count": 183,
   "metadata": {},
   "outputs": [],
   "source": [
    "p = [{\"usario\": 0, \"firma\": 30653941572392250832711009887025900278911259557207665859295281793781551910293, \"firma agregada\": [83594726559429963489371960898066441361664468358327113063543463655156385472359, 52305255534015268575568636279548296746875170664080141202572987595110032487318]},\n",
    "{\"usario\": 1, \"firma\": 95934454112207769408222792948849277920240126181238466246975522674184260563858, \"firma agregada\": [83594726559429963489371960898066441361664468358327113063543463655156385472359, 52305255534015268575568636279548296746875170664080141202572987595110032487318]}]"
   ]
  },
  {
   "cell_type": "code",
   "execution_count": 188,
   "metadata": {},
   "outputs": [
    {
     "name": "stdout",
     "output_type": "stream",
     "text": [
      "30653941572392250832711009887025900278911259557207665859295281793781551910293\n",
      "95934454112207769408222792948849277920240126181238466246975522674184260563858\n"
     ]
    }
   ],
   "source": [
    "for i in p:\n",
    "    print(i['firma'])"
   ]
  },
  {
   "cell_type": "code",
   "execution_count": 196,
   "metadata": {},
   "outputs": [
    {
     "name": "stdout",
     "output_type": "stream",
     "text": [
      "155\n",
      "77\n"
     ]
    }
   ],
   "source": [
    "with open('data.json') as json_file:\n",
    "    data = json.load(json_file)\n",
    "\n",
    "clave_p = data['Firma']\n",
    "\n",
    "print(len(clave_p))\n",
    "#sig = sl.bytes_from_point(clave_p)\n",
    "\n",
    "#clave_p = clave_p.hex()\n",
    "\n",
    "clave_agregada = data['Firma Agregada']\n",
    "\n",
    "print(len(clave_agregada))\n",
    "\n",
    "#pubkey = sl.bytes_from_int(clave_agregada)\n",
    "\n",
    "\n",
    "\n",
    "    \n",
    "#if len(pubkey) != 32:\n",
    "#    raise ValueError('The public key must be a 32-byte array.')\n",
    "#if len(sig) != 64:\n",
    "#    raise ValueError('The signature must be a 64-byte array.')\n",
    "#P = lift_x_even_y(pubkey)\n",
    "#r = get_int_R_from_sig(sig)\n",
    "#s = get_int_s_from_sig(sig)\n",
    "#if (P is None) or (r >= p) or (s >= n):\n",
    "#    False\n",
    "#e = int_from_bytes(tagged_hash(\"BIP0340/challenge\", get_bytes_R_from_sig(sig) + pubkey + msg)) % n\n",
    "#R = point_add(point_mul(G, s), point_mul(P, n - e))\n",
    "#if (R is None) or (not has_even_y(R)):\n",
    "        # print(\"Please, recompute the sign. R is None or has even y\")\n",
    "#    False\n",
    "#if x(R) != r:\n",
    "        # print(\"There's something wrong\")\n",
    "#    False\n",
    "#True"
   ]
  },
  {
   "cell_type": "code",
   "execution_count": null,
   "metadata": {},
   "outputs": [],
   "source": []
  }
 ],
 "metadata": {
  "interpreter": {
   "hash": "57358cf5f4913248e7ac461105d7557af272d59485a79d39fdf7eef7a4e1f358"
  },
  "kernelspec": {
   "display_name": "Python 3 (ipykernel)",
   "language": "python",
   "name": "python3"
  },
  "language_info": {
   "codemirror_mode": {
    "name": "ipython",
    "version": 3
   },
   "file_extension": ".py",
   "mimetype": "text/x-python",
   "name": "python",
   "nbconvert_exporter": "python",
   "pygments_lexer": "ipython3",
   "version": "3.9.12"
  }
 },
 "nbformat": 4,
 "nbformat_minor": 2
}
