{
 "cells": [
  {
   "cell_type": "markdown",
   "metadata": {},
   "source": [
    "# Script para que el usuario ponga su documento, genere las firmas o pueda validar."
   ]
  },
  {
   "cell_type": "markdown",
   "metadata": {},
   "source": [
    "### Obtener el path del archivo que elija el usuario"
   ]
  },
  {
   "cell_type": "code",
   "execution_count": 17,
   "metadata": {},
   "outputs": [
    {
     "name": "stdout",
     "output_type": "stream",
     "text": [
      "D:/Documentos/pdf-test.pdf\n"
     ]
    }
   ],
   "source": [
    "import  tkinter as tk\n",
    "from tkinter import filedialog\n",
    "root = tk.Tk()\n",
    "root.withdraw()\n",
    "file_path = filedialog.askopenfilename()\n",
    "print(file_path)"
   ]
  },
  {
   "cell_type": "markdown",
   "metadata": {},
   "source": [
    "### Función que obtiene el hash del documento"
   ]
  },
  {
   "cell_type": "code",
   "execution_count": 9,
   "metadata": {},
   "outputs": [],
   "source": [
    "def hashPDF(file, BLOCK_SIZE):\n",
    "    # hash=sha256()\n",
    "    with open(file, 'rb') as f: # Open the file to read it's bytes\n",
    "        fb = f.read(BLOCK_SIZE) # Read from the file. Take in the amount declared above\n",
    "        M = sl.sha256(fb)\n",
    "    return M\n",
    "\n",
    "size = os.path.getsize(file_path) "
   ]
  },
  {
   "cell_type": "markdown",
   "metadata": {},
   "source": [
    "### Generación firma Schnorr"
   ]
  },
  {
   "cell_type": "code",
   "execution_count": 10,
   "metadata": {},
   "outputs": [
    {
     "name": "stdout",
     "output_type": "stream",
     "text": [
      "PublicKey = fb01010be2a1582481c5cc106a2b4c9154f9fdf7427e3e419e6e6f3c3536786b\n",
      "Signature = 872865985b059602f1be06928e76e08349a126fbb13d11cd813c49c2416f5dc0e3f15d3a76f83bf133657d814af35caf13235a0a55dcae71a7ad4c8a197e9c55\n"
     ]
    }
   ],
   "source": [
    "import create_keypair as ckp\n",
    "import schnorr_lib as sl\n",
    "\n",
    "user = ckp.create_keypair(1)[\"users\"]\n",
    "\n",
    "# M = input(\"Insert the message to sign:\")\n",
    "# M = sl.sha256(M.encode())\n",
    "M = hashPDF(file_path, size)\n",
    "\n",
    "sig = sl.schnorr_sign(M, user[0][\"privateKey\"])\n",
    "\n",
    "print(\"PublicKey =\",user[0][\"publicKey\"])\n",
    "print(\"Signature =\",sig.hex())"
   ]
  },
  {
   "cell_type": "markdown",
   "metadata": {},
   "source": [
    "### Esquema Musig"
   ]
  },
  {
   "cell_type": "code",
   "execution_count": 13,
   "metadata": {},
   "outputs": [
    {
     "name": "stdout",
     "output_type": "stream",
     "text": [
      "Aggregated key = c4a3283f9ff4fb6e99cc1d5bd8d3a3182c6d469770bd18ca0f121746676e7060\n",
      "Signature = 8bc2d009a333ed18556f2977147733fc22e787c2a17cd6fd8f9ef34d4dc110d6fb028e8bed889f4a0412a251c3cbbde7632e6a99a9c6f2e116fdcc5dedf5588b\n"
     ]
    }
   ],
   "source": [
    "import create_keypair as ckp\n",
    "import schnorr_lib as sl\n",
    "\n",
    "n_keys = int(input(\"Insert the number of keys to be generated:\"))\n",
    "users = ckp.create_keypair(n_keys)[\"users\"]\n",
    "\n",
    "# M = input(\"Insert the message to sign:\")\n",
    "# M = sl.sha256(M.encode())\n",
    "M = hashPDF(file_path, size)\n",
    "\n",
    "sig, X = sl.schnorr_musig_sign(M, users)\n",
    "\n",
    "print(\"Aggregated key =\",X.hex())\n",
    "print(\"Signature =\",sig.hex())"
   ]
  },
  {
   "cell_type": "markdown",
   "metadata": {},
   "source": [
    "### Esquema Musig 2"
   ]
  },
  {
   "cell_type": "code",
   "execution_count": 15,
   "metadata": {},
   "outputs": [
    {
     "name": "stdout",
     "output_type": "stream",
     "text": [
      "Aggregated key = 0c3db4a9cc99398f8b4d4e502fc63b718dc1d3cc3e6c6729b363b9433f1e5e34\n",
      "Signature = 93a00a37929054819cf485662290b8e895c14ad24abb3a0ccc74d5a216c1548174b97900c22da530607f33b395d55e915edc65b6a87dd1d26d4f8d664bd3fd37\n"
     ]
    }
   ],
   "source": [
    "import create_keypair as ckp\n",
    "import schnorr_lib as sl\n",
    "import os\n",
    "# from hashlib import sha256\n",
    "\n",
    "n_keys = int(input(\"Insert the number of keys to be generated:\"))\n",
    "# n_keys = 2\n",
    "users = ckp.create_keypair(n_keys)[\"users\"]\n",
    "\n",
    "# M = input(\"Insert the message to sign:\")\n",
    "# M = sl.sha256(M.encode())\n",
    "M = hashPDF(file_path, size)\n",
    "\n",
    "sig, X = sl.schnorr_musig2_sign(M, users)\n",
    "\n",
    "print(\"Aggregated key =\",X.hex())\n",
    "print(\"Signature =\",sig.hex())"
   ]
  },
  {
   "cell_type": "markdown",
   "metadata": {},
   "source": [
    "### Verificar Firma Schnorr"
   ]
  },
  {
   "cell_type": "code",
   "execution_count": 16,
   "metadata": {},
   "outputs": [
    {
     "name": "stdout",
     "output_type": "stream",
     "text": [
      "The signature is VALID for this message and this public key\n"
     ]
    }
   ],
   "source": [
    "import schnorr_lib as sl\n",
    "\n",
    "# M = input(\"Insert the message to verify:\")\n",
    "# M = sl.sha256(M.encode())\n",
    "M = hashPDF(file_path, size)\n",
    "\n",
    "pubkey = input(\"Insert the public key (or the aggregated key if MuSig was used):\")\n",
    "pubkey_bytes = bytes.fromhex(pubkey)\n",
    "\n",
    "sig = input(\"Insert the generated sign:\")\n",
    "sig_bytes = bytes.fromhex(sig)\n",
    "\n",
    "result = sl.schnorr_verify(M, pubkey_bytes, sig_bytes)\n",
    "\n",
    "if result:\n",
    "    print(\"The signature is VALID for this message and this public key\")\n",
    "else:\n",
    "    print(\"The signature is NOT VALID for this message and this public key\")"
   ]
  },
  {
   "cell_type": "code",
   "execution_count": null,
   "metadata": {},
   "outputs": [],
   "source": []
  }
 ],
 "metadata": {
  "interpreter": {
   "hash": "9585072c6293391118f064fb8b3914bd076cc0cb81753f21ac8548f1170d6f20"
  },
  "kernelspec": {
   "display_name": "Python 3.9.4 64-bit",
   "language": "python",
   "name": "python3"
  },
  "language_info": {
   "codemirror_mode": {
    "name": "ipython",
    "version": 3
   },
   "file_extension": ".py",
   "mimetype": "text/x-python",
   "name": "python",
   "nbconvert_exporter": "python",
   "pygments_lexer": "ipython3",
   "version": "3.9.4"
  },
  "orig_nbformat": 4
 },
 "nbformat": 4,
 "nbformat_minor": 2
}
