{
 "cells": [
  {
   "cell_type": "markdown",
   "metadata": {},
   "source": [
    "# Script para que el usuario ponga su documento, genere las firmas o pueda validar."
   ]
  },
  {
   "cell_type": "markdown",
   "metadata": {},
   "source": [
    "### Obtener el path del archivo que elija el usuario"
   ]
  },
  {
   "cell_type": "code",
   "execution_count": 17,
   "metadata": {},
   "outputs": [
    {
     "name": "stdout",
     "output_type": "stream",
     "text": [
      "D:/Documentos/pdf-test.pdf\n"
     ]
    }
   ],
   "source": [
    "import  tkinter as tk\n",
    "from tkinter import filedialog\n",
    "root = tk.Tk()\n",
    "root.withdraw()\n",
    "file_path = filedialog.askopenfilename()\n",
    "print(file_path)"
   ]
  },
  {
   "cell_type": "markdown",
   "metadata": {},
   "source": [
    "### Función que obtiene el hash del documento"
   ]
  },
  {
   "cell_type": "code",
   "execution_count": 9,
   "metadata": {},
   "outputs": [],
   "source": [
    "def hashPDF(file, BLOCK_SIZE):\n",
    "    # hash=sha256()\n",
    "    with open(file, 'rb') as f: # Open the file to read it's bytes\n",
    "        fb = f.read(BLOCK_SIZE) # Read from the file. Take in the amount declared above\n",
    "        M = sl.sha256(fb)\n",
    "    return M\n",
    "\n",
    "size = os.path.getsize(file_path) "
   ]
  },
  {
   "cell_type": "markdown",
   "metadata": {},
   "source": [
    "### Generación firma Schnorr"
   ]
  },
  {
   "cell_type": "code",
   "execution_count": 30,
   "metadata": {},
   "outputs": [
    {
     "name": "stdout",
     "output_type": "stream",
     "text": [
      "PublicKey = 99e745bf433c9a86663c263d0c13a66f4b8f68470a5d48c84c04993e3c4ea112\n",
      "Signature = 056c9b840c62a176fe0ce0f3d06654f0b4cc54ec74f8f36ac1b10be86a483dafdac565ae48692bb6bc4d6bc9f5d23f2c9d84ab21298aa36e32115b9c1ec8e21a\n",
      "[0.0007944999961182475, 0.0006170999840833247, 0.0006546000076923519, 0.0006167000101413578, 0.0005612999957520515, 0.00042340002255514264, 0.0004335999838076532, 0.00045039999531582, 0.0004927999980282038, 0.00031430000672116876, 0.0005414000188466161, 0.0005265999934636056, 0.0004993999900761992, 0.0004200999974273145, 0.00042100000428035855, 0.0003836000105366111, 0.00038320000749081373, 0.0003809999907389283, 0.00038300000596791506, 0.00038240000139921904, 0.0003853000234812498, 0.0003816999960690737, 0.00038219999987632036, 0.0003803000145126134, 0.00038170002517290413, 0.000381199992261827, 0.00038109999150037766, 0.000381199992261827, 0.00042380002560094, 0.00037960000918246806, 0.0003806000167969614, 0.0003786000015679747, 0.00044589999015443027, 0.00040580000495538116, 0.00038660000427626073, 0.0003858999989461154, 0.00038339997990988195, 0.00038320000749081373, 0.0004222000134177506, 0.0003808000183198601, 0.0005472000048030168, 0.00045900000259280205, 0.0004326000052969903, 0.0004769999941345304, 0.0006489999941550195, 0.0006977999873925, 0.0008341999782714993, 0.0003859999997075647, 0.0004285000031813979, 0.0006386000022757798, 0.0006294999911915511, 0.0005579999997280538, 0.00047470000572502613, 0.0003884999896399677, 0.00038029998540878296, 0.00038309997762553394, 0.0003789000038523227, 0.0003786000015679747, 0.0003782999992836267, 0.00037689998862333596, 0.00037819999852217734, 0.0004144000122323632, 0.0003760000108741224, 0.0003782999992836267, 0.00037779999547638, 0.0003793999785557389, 0.000447900005383417, 0.00040580000495538116, 0.000384599989047274, 0.0003779000253416598, 0.0003782999992836267, 0.0003769999893847853, 0.00037480000173673034, 0.0003749000024981797, 0.00037319998955354095, 0.0003780000261031091, 0.00037769999471493065, 0.0005370999861042947, 0.00042460000258870423, 0.0005721999914385378, 0.0005597000126726925, 0.0006673999887425452, 0.0007981999951880425, 0.0007009000109974295, 0.000586000009207055, 0.0005621000018436462, 0.0005623000033665448, 0.0005740999768022448, 0.0005741999775636941, 0.0005735000013373792, 0.0005748999828938395, 0.0005870999884791672, 0.0005805999971926212, 0.0005756999889854342, 0.0006432000081986189, 0.000594300014199689, 0.0005883999983780086, 0.0005947000172454864, 0.0005867999861948192]\n"
     ]
    }
   ],
   "source": [
    "import create_keypair as ckp\n",
    "import schnorr_lib as sl\n",
    "\n",
    "user = ckp.create_keypair(1)[\"users\"]\n",
    "\n",
    "# M = input(\"Insert the message to sign:\")\n",
    "# M = sl.sha256(M.encode())\n",
    "M = hashPDF(file_path, size)\n",
    "\n",
    "sig = sl.schnorr_sign(M, user[0][\"privateKey\"])\n",
    "\n",
    "print(\"PublicKey =\",user[0][\"publicKey\"])\n",
    "print(\"Signature =\", sig.hex())\n",
    "\n",
    "tiempos_firma = []\n",
    "for i in range(1,100):\n",
    "    t0 = time.perf_counter()\n",
    "    M = hashPDF(file_path, size)\n",
    "    t1 = time.perf_counter()\n",
    "    total_2 = t1-t0\n",
    "    tiempos_firma.append(total_2)\n",
    "\n",
    "print(tiempos_firma)\n"
   ]
  },
  {
   "cell_type": "markdown",
   "metadata": {},
   "source": [
    "### Esquema Musig"
   ]
  },
  {
   "cell_type": "code",
   "execution_count": 34,
   "metadata": {},
   "outputs": [
    {
     "ename": "ValueError",
     "evalue": "not enough values to unpack (expected 3, got 2)",
     "output_type": "error",
     "traceback": [
      "\u001b[1;31m---------------------------------------------------------------------------\u001b[0m",
      "\u001b[1;31mValueError\u001b[0m                                Traceback (most recent call last)",
      "\u001b[1;32md:\\Documentos\\Visual Studio\\reto-ma2006\\schnorr-sig\\verificacion.ipynb Cell 9'\u001b[0m in \u001b[0;36m<cell line: 11>\u001b[1;34m()\u001b[0m\n\u001b[0;32m      <a href='vscode-notebook-cell:/d%3A/Documentos/Visual%20Studio/reto-ma2006/schnorr-sig/verificacion.ipynb#ch0000008?line=6'>7</a>\u001b[0m \u001b[39m# M = input(\"Insert the message to sign:\")\u001b[39;00m\n\u001b[0;32m      <a href='vscode-notebook-cell:/d%3A/Documentos/Visual%20Studio/reto-ma2006/schnorr-sig/verificacion.ipynb#ch0000008?line=7'>8</a>\u001b[0m \u001b[39m# M = sl.sha256(M.encode())\u001b[39;00m\n\u001b[0;32m      <a href='vscode-notebook-cell:/d%3A/Documentos/Visual%20Studio/reto-ma2006/schnorr-sig/verificacion.ipynb#ch0000008?line=8'>9</a>\u001b[0m M \u001b[39m=\u001b[39m hashPDF(file_path, size)\n\u001b[1;32m---> <a href='vscode-notebook-cell:/d%3A/Documentos/Visual%20Studio/reto-ma2006/schnorr-sig/verificacion.ipynb#ch0000008?line=10'>11</a>\u001b[0m sig, X, priv\u001b[39m=\u001b[39m sl\u001b[39m.\u001b[39mschnorr_musig_sign(M, users)\n\u001b[0;32m     <a href='vscode-notebook-cell:/d%3A/Documentos/Visual%20Studio/reto-ma2006/schnorr-sig/verificacion.ipynb#ch0000008?line=12'>13</a>\u001b[0m \u001b[39mprint\u001b[39m(\u001b[39m\"\u001b[39m\u001b[39mAggregated key =\u001b[39m\u001b[39m\"\u001b[39m,X\u001b[39m.\u001b[39mhex())\n\u001b[0;32m     <a href='vscode-notebook-cell:/d%3A/Documentos/Visual%20Studio/reto-ma2006/schnorr-sig/verificacion.ipynb#ch0000008?line=13'>14</a>\u001b[0m \u001b[39mprint\u001b[39m(\u001b[39m\"\u001b[39m\u001b[39mSignature =\u001b[39m\u001b[39m\"\u001b[39m,sig\u001b[39m.\u001b[39mhex())\n",
      "\u001b[1;31mValueError\u001b[0m: not enough values to unpack (expected 3, got 2)"
     ]
    }
   ],
   "source": [
    "import create_keypair as ckp\n",
    "import schnorr_lib as sl\n",
    "\n",
    "n_keys = int(input(\"Insert the number of keys to be generated:\"))\n",
    "users = ckp.create_keypair(n_keys)[\"users\"]\n",
    "\n",
    "# M = input(\"Insert the message to sign:\")\n",
    "# M = sl.sha256(M.encode())\n",
    "M = hashPDF(file_path, size)\n",
    "\n",
    "sig, X, priv= sl.schnorr_musig_sign(M, users)\n",
    "\n",
    "print(\"Aggregated key =\",X.hex())\n",
    "print(\"Signature =\",sig.hex())"
   ]
  },
  {
   "cell_type": "markdown",
   "metadata": {},
   "source": [
    "### Esquema Musig 2"
   ]
  },
  {
   "cell_type": "code",
   "execution_count": 15,
   "metadata": {},
   "outputs": [
    {
     "name": "stdout",
     "output_type": "stream",
     "text": [
      "Aggregated key = 0c3db4a9cc99398f8b4d4e502fc63b718dc1d3cc3e6c6729b363b9433f1e5e34\n",
      "Signature = 93a00a37929054819cf485662290b8e895c14ad24abb3a0ccc74d5a216c1548174b97900c22da530607f33b395d55e915edc65b6a87dd1d26d4f8d664bd3fd37\n"
     ]
    }
   ],
   "source": [
    "import create_keypair as ckp\n",
    "import schnorr_lib as sl\n",
    "import os\n",
    "# from hashlib import sha256\n",
    "\n",
    "n_keys = int(input(\"Insert the number of keys to be generated:\"))\n",
    "# n_keys = 2\n",
    "users = ckp.create_keypair(n_keys)[\"users\"]\n",
    "\n",
    "# M = input(\"Insert the message to sign:\")\n",
    "# M = sl.sha256(M.encode())\n",
    "M = hashPDF(file_path, size)\n",
    "\n",
    "sig, X = sl.schnorr_musig2_sign(M, users)\n",
    "\n",
    "print(\"Aggregated key =\",X.hex())\n",
    "print(\"Signature =\",sig.hex())"
   ]
  },
  {
   "cell_type": "markdown",
   "metadata": {},
   "source": [
    "### Verificar Firma Schnorr"
   ]
  },
  {
   "cell_type": "code",
   "execution_count": 16,
   "metadata": {},
   "outputs": [
    {
     "name": "stdout",
     "output_type": "stream",
     "text": [
      "The signature is VALID for this message and this public key\n"
     ]
    }
   ],
   "source": [
    "import schnorr_lib as sl\n",
    "\n",
    "# M = input(\"Insert the message to verify:\")\n",
    "# M = sl.sha256(M.encode())\n",
    "M = hashPDF(file_path, size)\n",
    "\n",
    "pubkey = input(\"Insert the public key (or the aggregated key if MuSig was used):\")\n",
    "pubkey_bytes = bytes.fromhex(pubkey)\n",
    "\n",
    "sig = input(\"Insert the generated sign:\")\n",
    "sig_bytes = bytes.fromhex(sig)\n",
    "\n",
    "result = sl.schnorr_verify(M, pubkey_bytes, sig_bytes)\n",
    "\n",
    "if result:\n",
    "    print(\"The signature is VALID for this message and this public key\")\n",
    "else:\n",
    "    print(\"The signature is NOT VALID for this message and this public key\")"
   ]
  },
  {
   "cell_type": "code",
   "execution_count": null,
   "metadata": {},
   "outputs": [],
   "source": []
  }
 ],
 "metadata": {
  "interpreter": {
   "hash": "9585072c6293391118f064fb8b3914bd076cc0cb81753f21ac8548f1170d6f20"
  },
  "kernelspec": {
   "display_name": "Python 3.9.4 64-bit",
   "language": "python",
   "name": "python3"
  },
  "language_info": {
   "codemirror_mode": {
    "name": "ipython",
    "version": 3
   },
   "file_extension": ".py",
   "mimetype": "text/x-python",
   "name": "python",
   "nbconvert_exporter": "python",
   "pygments_lexer": "ipython3",
   "version": "3.9.4"
  },
  "orig_nbformat": 4
 },
 "nbformat": 4,
 "nbformat_minor": 2
}
