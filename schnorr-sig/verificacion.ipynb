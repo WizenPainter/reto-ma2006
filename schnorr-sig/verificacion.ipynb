{
 "cells": [
  {
   "cell_type": "markdown",
   "metadata": {},
   "source": [
    "# Script para que el usuario ponga su documento, genere las firmas o pueda validar."
   ]
  },
  {
   "cell_type": "markdown",
   "metadata": {},
   "source": [
    "### Obtener el path del archivo que elija el usuario"
   ]
  },
  {
   "cell_type": "code",
   "execution_count": 2,
   "metadata": {},
   "outputs": [
    {
     "name": "stdout",
     "output_type": "stream",
     "text": [
      "D:/Documentos/pdf-test.pdf\n"
     ]
    }
   ],
   "source": [
    "import  tkinter as tk\n",
    "from tkinter import filedialog\n",
    "root = tk.Tk()\n",
    "root.withdraw()\n",
    "file_path = 'D:/Documentos/pdf-test.pdf'\n",
    "print(file_path)"
   ]
  },
  {
   "cell_type": "markdown",
   "metadata": {},
   "source": [
    "### Función que obtiene el hash del documento"
   ]
  },
  {
   "cell_type": "code",
   "execution_count": 3,
   "metadata": {},
   "outputs": [],
   "source": [
    "def hashPDF(file, BLOCK_SIZE):\n",
    "    # hash=sha256()\n",
    "    with open(file, 'rb') as f: # Open the file to read it's bytes\n",
    "        fb = f.read(BLOCK_SIZE) # Read from the file. Take in the amount declared above\n",
    "        M = sl.sha256(fb)\n",
    "    return M\n",
    "\n",
    "size = os.path.getsize(file_path) "
   ]
  },
  {
   "cell_type": "markdown",
   "metadata": {},
   "source": [
    "### Generación firma Schnorr"
   ]
  },
  {
   "cell_type": "code",
   "execution_count": 43,
   "metadata": {},
   "outputs": [
    {
     "name": "stdout",
     "output_type": "stream",
     "text": [
      "Signature = cdc8b991623c8c20a79e589cf8e218177b6606cf1b9f0d5c4988ecd38d66859412795bc51108bbcad61964b02f919630cd4b35a26fb45a1fa6a4430aec0c2e00\n"
     ]
    }
   ],
   "source": [
    "import create_keypair as ckp\n",
    "import schnorr_lib as sl\n",
    "import statistics\n",
    "\n",
    "user = ckp.create_keypair(1)[\"users\"]\n",
    "\n",
    "# M = input(\"Insert the message to sign:\")\n",
    "# M = sl.sha256(M.encode())\n",
    "M = hashPDF(file_path, size)\n",
    "\n",
    "sig = sl.schnorr_sign(M, user[0][\"privateKey\"])\n",
    "#print(\"PublicKey =\", user[0][\"publicKey\"])\n",
    "print(\"Signature =\", sig.hex())"
   ]
  },
  {
   "cell_type": "markdown",
   "metadata": {},
   "source": [
    "## Tiempos para firmar el Documento"
   ]
  },
  {
   "cell_type": "code",
   "execution_count": 44,
   "metadata": {},
   "outputs": [],
   "source": [
    "tiempos_firma = []\n",
    "for i in range(1,100):\n",
    "    t0 = time.perf_counter()\n",
    "    sig = sl.schnorr_sign(M, user[0][\"privateKey\"])\n",
    "    t1 = time.perf_counter()\n",
    "    total = t1-t0\n",
    "    tiempos_firma.append(total)"
   ]
  },
  {
   "cell_type": "code",
   "execution_count": 45,
   "metadata": {},
   "outputs": [
    {
     "name": "stdout",
     "output_type": "stream",
     "text": [
      "0.048778490982085636\n",
      "0.3071531878791354\n"
     ]
    }
   ],
   "source": [
    "from statistics import mean\n",
    "\n",
    "print(statistics.pstdev(tiempos_firma))\n",
    "\n",
    "print(mean(tiempos_firma))"
   ]
  },
  {
   "cell_type": "markdown",
   "metadata": {},
   "source": [
    "### Esquema Musig"
   ]
  },
  {
   "cell_type": "code",
   "execution_count": 11,
   "metadata": {},
   "outputs": [
    {
     "name": "stdout",
     "output_type": "stream",
     "text": [
      "77\n",
      "77\n",
      "64\n",
      "32\n",
      "Aggregated key = 64\n",
      "Signature = 128\n"
     ]
    }
   ],
   "source": [
    "import create_keypair as ckp\n",
    "import schnorr_lib as sl\n",
    "\n",
    "n_keys = int(input(\"Insert the number of keys to be generated:\"))\n",
    "users = ckp.create_keypair(n_keys)[\"users\"]\n",
    "\n",
    "# M = input(\"Insert the message to sign:\")\n",
    "# M = sl.sha256(M.encode())\n",
    "M = hashPDF(file_path, size)\n",
    "\n",
    "sig, X, priv= sl.schnorr_musig_sign(M, users)\n",
    "print(len(sig))\n",
    "print(len(X))\n",
    "\n",
    "print(\"Aggregated key =\",len(X.hex()))\n",
    "print(\"Signature =\",len(sig.hex()))"
   ]
  },
  {
   "cell_type": "code",
   "execution_count": 6,
   "metadata": {},
   "outputs": [
    {
     "data": {
      "text/plain": [
       "128"
      ]
     },
     "execution_count": 6,
     "metadata": {},
     "output_type": "execute_result"
    }
   ],
   "source": [
    "s = 'd66630062412391bf8f581a35c0dcb8746372fff045ad152458012601bf3163f17e56ac29f027958b336a9df168118b59e5b06cd936af44e0f6e40aeffe29c30'\n",
    "len(s)"
   ]
  },
  {
   "cell_type": "code",
   "execution_count": 17,
   "metadata": {},
   "outputs": [
    {
     "data": {
      "text/plain": [
       "64"
      ]
     },
     "execution_count": 17,
     "metadata": {},
     "output_type": "execute_result"
    }
   ],
   "source": [
    "p = '9a722933fa4788f92e21ba2e848a347d939bfb012ec81a004b70fb8fa064641c'\n",
    "len(p)"
   ]
  },
  {
   "cell_type": "markdown",
   "metadata": {},
   "source": [
    "### Tiempos para Generar el Esquema"
   ]
  },
  {
   "cell_type": "code",
   "execution_count": 48,
   "metadata": {},
   "outputs": [],
   "source": [
    "tiempos_esquema = []\n",
    "for i in range(1,100):\n",
    "    t0 = time.perf_counter()\n",
    "    sig, X= sl.schnorr_musig_sign(M, users)\n",
    "    t1 = time.perf_counter()\n",
    "    total_1 = t1-t0\n",
    "    tiempos_esquema.append(total_1)"
   ]
  },
  {
   "cell_type": "code",
   "execution_count": 47,
   "metadata": {},
   "outputs": [
    {
     "name": "stdout",
     "output_type": "stream",
     "text": [
      "0.01445772375121526\n",
      "0.24727328686776215\n"
     ]
    }
   ],
   "source": [
    "from statistics import mean\n",
    "\n",
    "print(statistics.pstdev(tiempos_esquema))\n",
    "\n",
    "print(mean(tiempos_esquema))"
   ]
  },
  {
   "cell_type": "markdown",
   "metadata": {},
   "source": [
    "### Esquema Musig 2"
   ]
  },
  {
   "cell_type": "code",
   "execution_count": 15,
   "metadata": {},
   "outputs": [
    {
     "name": "stdout",
     "output_type": "stream",
     "text": [
      "Aggregated key = 0c3db4a9cc99398f8b4d4e502fc63b718dc1d3cc3e6c6729b363b9433f1e5e34\n",
      "Signature = 93a00a37929054819cf485662290b8e895c14ad24abb3a0ccc74d5a216c1548174b97900c22da530607f33b395d55e915edc65b6a87dd1d26d4f8d664bd3fd37\n"
     ]
    }
   ],
   "source": [
    "import create_keypair as ckp\n",
    "import schnorr_lib as sl\n",
    "import os\n",
    "# from hashlib import sha256\n",
    "\n",
    "n_keys = int(input(\"Insert the number of keys to be generated:\"))\n",
    "# n_keys = 2\n",
    "users = ckp.create_keypair(n_keys)[\"users\"]\n",
    "\n",
    "# M = input(\"Insert the message to sign:\")\n",
    "# M = sl.sha256(M.encode())\n",
    "M = hashPDF(file_path, size)\n",
    "\n",
    "sig, X = sl.schnorr_musig2_sign(M, users)\n",
    "\n",
    "print(\"Aggregated key =\",X.hex())\n",
    "print(\"Signature =\",sig.hex())"
   ]
  },
  {
   "cell_type": "markdown",
   "metadata": {},
   "source": [
    "### Verificar Firma Schnorr"
   ]
  },
  {
   "cell_type": "code",
   "execution_count": 53,
   "metadata": {},
   "outputs": [
    {
     "name": "stdout",
     "output_type": "stream",
     "text": [
      "The signature is VALID for this message and this public key\n"
     ]
    }
   ],
   "source": [
    "import schnorr_lib as sl\n",
    "\n",
    "# M = input(\"Insert the message to verify:\")\n",
    "# M = sl.sha256(M.encode())\n",
    "M = hashPDF(file_path, size)\n",
    "\n",
    "pubkey = input(\"Insert the public key (or the aggregated key if MuSig was used):\")\n",
    "pubkey_bytes = bytes.fromhex(pubkey)\n",
    "\n",
    "sig = input(\"Insert the generated sign:\")\n",
    "sig_bytes = bytes.fromhex(sig)\n",
    "\n",
    "result = sl.schnorr_verify(M, pubkey_bytes, sig_bytes)\n",
    "\n",
    "if result:\n",
    "    print(\"The signature is VALID for this message and this public key\")\n",
    "else:\n",
    "    print(\"The signature is NOT VALID for this message and this public key\")"
   ]
  },
  {
   "cell_type": "code",
   "execution_count": 51,
   "metadata": {},
   "outputs": [],
   "source": [
    "tiempos_validacion = []\n",
    "\n",
    "pubkey = 'ada347b0f7df08a9f452839fbeed8f46ed294ceb7105f61ae7b9abfd28e758b1'\n",
    "sig = '32054b80f10e640f5caab6d73de3334dd039db26c0604a8e22534c4ed6b62c3704dc8a7397a5a26dcc323d095776e13fefe95574da5912a4956139721fb52414'\n",
    "\n",
    "\n",
    "for i in range(1,100):\n",
    "    t0 = time.perf_counter()\n",
    "    pubkey_bytes = bytes.fromhex(pubkey)\n",
    "\n",
    "    sig_bytes = bytes.fromhex(sig)\n",
    "\n",
    "    result = sl.schnorr_verify(M, pubkey_bytes, sig_bytes)\n",
    "    t1 = time.perf_counter()\n",
    "    total_3 = t1-t0\n",
    "    tiempos_validacion.append(total_3)"
   ]
  },
  {
   "cell_type": "code",
   "execution_count": 52,
   "metadata": {},
   "outputs": [
    {
     "name": "stdout",
     "output_type": "stream",
     "text": [
      "0.009349623458082153\n",
      "0.1197464282805514\n"
     ]
    }
   ],
   "source": [
    "from statistics import mean\n",
    "\n",
    "print(statistics.pstdev(tiempos_validacion))\n",
    "\n",
    "print(mean(tiempos_validacion))"
   ]
  },
  {
   "cell_type": "code",
   "execution_count": 1,
   "metadata": {},
   "outputs": [
    {
     "name": "stdout",
     "output_type": "stream",
     "text": [
      "010e8a417c4a0f13a603a4566bb23678a8a896f1b9fafb4ac6d35bf0de081b26\n"
     ]
    }
   ],
   "source": [
    "import json\n",
    "with open('users.json', 'r') as f:\n",
    "            data = json.load(f)\n",
    "\n",
    "dict = data['users'][0]['privateKey']\n",
    "print(dict)"
   ]
  },
  {
   "cell_type": "code",
   "execution_count": null,
   "metadata": {},
   "outputs": [],
   "source": []
  }
 ],
 "metadata": {
  "interpreter": {
   "hash": "9585072c6293391118f064fb8b3914bd076cc0cb81753f21ac8548f1170d6f20"
  },
  "kernelspec": {
   "display_name": "Python 3.9.4 64-bit",
   "language": "python",
   "name": "python3"
  },
  "language_info": {
   "codemirror_mode": {
    "name": "ipython",
    "version": 3
   },
   "file_extension": ".py",
   "mimetype": "text/x-python",
   "name": "python",
   "nbconvert_exporter": "python",
   "pygments_lexer": "ipython3",
   "version": "3.9.4"
  },
  "orig_nbformat": 4
 },
 "nbformat": 4,
 "nbformat_minor": 2
}
